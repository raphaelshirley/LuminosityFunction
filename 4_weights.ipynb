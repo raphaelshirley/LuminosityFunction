{
 "cells": [
  {
   "cell_type": "markdown",
   "metadata": {},
   "source": [
    "# 4. Find weights to apply to account for sample selection\n",
    "\n",
    "The counts we found in [./3_servs_lf.ipynb](./3_servs_lf.ipynb) are much too low. Here we will try to understand the objects thrown away at each stage."
   ]
  },
  {
   "cell_type": "code",
   "execution_count": 1,
   "metadata": {},
   "outputs": [
    {
     "name": "stdout",
     "output_type": "stream",
     "text": [
      "This notebook was run with herschelhelp_internal version: \n",
      "017bb1e (Mon Jun 18 14:58:59 2018 +0100) [with local modifications]\n",
      "This notebook was executed on: \n",
      "2018-11-05 12:08:13.902162\n"
     ]
    }
   ],
   "source": [
    "from herschelhelp_internal import git_version\n",
    "print(\"This notebook was run with herschelhelp_internal version: \\n{}\".format(git_version()))\n",
    "import datetime\n",
    "print(\"This notebook was executed on: \\n{}\".format(datetime.datetime.now()))"
   ]
  },
  {
   "cell_type": "code",
   "execution_count": 50,
   "metadata": {},
   "outputs": [],
   "source": [
    "import numpy as np\n",
    "from astropy.table import Table\n",
    "\n",
    "%matplotlib inline\n",
    "#%config InlineBackend.figure_format = 'svg'\n",
    "\n",
    "import matplotlib.pyplot as plt\n",
    "plt.rc('figure', figsize=(10, 6))\n",
    "\n",
    "from astropy import units as u\n",
    "from astropy.coordinates import SkyCoord\n",
    "\n",
    "from herschelhelp_internal.masterlist import merge_catalogues, nb_merge_dist_plot, specz_merge"
   ]
  },
  {
   "cell_type": "markdown",
   "metadata": {},
   "source": [
    "In Gruppioni et al. (2017) they apply weights due to missing photometric redshifts in the application of the Vmax method\n",
    "\n",
    "$$\n",
    "\\Phi (L,z) = \\frac{1}{\\Delta L} \\sum_i \\frac{1}{w_i V_{\\textrm{max}, i}}\n",
    "$$\n",
    "\n",
    "\n",
    "There are various stages to the selection:\n",
    "\n",
    "1. Survey selection. The object must be bright enough to be detected by at least one of the observing surveys.\n",
    "\n",
    "2. Our detection criteria. We insist objects must have at least two optical and at least 2 near infrared detections.\n",
    "\n",
    "3. Photometric redshift. Objects must have a redshift. What determines whether an object gets a redshift is not entirely understood.\n",
    "\n",
    "4. XID+ fluxes. To pass to CIGALE the object must have at least two FIR fluxes with s/n greater than 5.\n",
    "\n",
    "5. CIGALE fit.\n",
    "\n",
    "First, lets look at the numbers.\n"
   ]
  },
  {
   "cell_type": "code",
   "execution_count": 3,
   "metadata": {},
   "outputs": [],
   "source": [
    "#dmu = '/Users/rs548/GitHub/dmu_products/'\n",
    "dmu = '/mnt/hedam/dmu_products/'\n",
    "cat = Table.read(dmu + 'dmu32/dmu32_ELAIS-N1/data/ELAIS-N1_20171016_10pc.fits')"
   ]
  },
  {
   "cell_type": "code",
   "execution_count": 4,
   "metadata": {},
   "outputs": [
    {
     "data": {
      "text/plain": [
       "['help_id',\n",
       " 'field',\n",
       " 'ra',\n",
       " 'dec',\n",
       " 'hp_idx',\n",
       " 'ebv',\n",
       " 'redshift',\n",
       " 'zspec',\n",
       " 'f_wfc_u',\n",
       " 'ferr_wfc_u',\n",
       " 'f_ap_wfc_u',\n",
       " 'ferr_ap_wfc_u',\n",
       " 'm_wfc_u',\n",
       " 'merr_wfc_u',\n",
       " 'm_ap_wfc_u',\n",
       " 'merr_ap_wfc_u',\n",
       " 'flag_wfc_u',\n",
       " 'f_megacam_u',\n",
       " 'ferr_megacam_u',\n",
       " 'f_ap_megacam_u',\n",
       " 'ferr_ap_megacam_u',\n",
       " 'm_megacam_u',\n",
       " 'merr_megacam_u',\n",
       " 'm_ap_megacam_u',\n",
       " 'merr_ap_megacam_u',\n",
       " 'flag_megacam_u',\n",
       " 'f_suprime_g',\n",
       " 'ferr_suprime_g',\n",
       " 'f_ap_suprime_g',\n",
       " 'ferr_ap_suprime_g',\n",
       " 'm_suprime_g',\n",
       " 'merr_suprime_g',\n",
       " 'm_ap_suprime_g',\n",
       " 'merr_ap_suprime_g',\n",
       " 'flag_suprime_g',\n",
       " 'f_megacam_g',\n",
       " 'ferr_megacam_g',\n",
       " 'f_ap_megacam_g',\n",
       " 'ferr_ap_megacam_g',\n",
       " 'm_megacam_g',\n",
       " 'merr_megacam_g',\n",
       " 'm_ap_megacam_g',\n",
       " 'merr_ap_megacam_g',\n",
       " 'flag_megacam_g',\n",
       " 'f_gpc1_g',\n",
       " 'ferr_gpc1_g',\n",
       " 'f_ap_gpc1_g',\n",
       " 'ferr_ap_gpc1_g',\n",
       " 'm_gpc1_g',\n",
       " 'merr_gpc1_g',\n",
       " 'm_ap_gpc1_g',\n",
       " 'merr_ap_gpc1_g',\n",
       " 'flag_gpc1_g',\n",
       " 'f_wfc_g',\n",
       " 'ferr_wfc_g',\n",
       " 'f_ap_wfc_g',\n",
       " 'ferr_ap_wfc_g',\n",
       " 'm_wfc_g',\n",
       " 'merr_wfc_g',\n",
       " 'm_ap_wfc_g',\n",
       " 'merr_ap_wfc_g',\n",
       " 'flag_wfc_g',\n",
       " 'f_suprime_r',\n",
       " 'ferr_suprime_r',\n",
       " 'f_ap_suprime_r',\n",
       " 'ferr_ap_suprime_r',\n",
       " 'm_suprime_r',\n",
       " 'merr_suprime_r',\n",
       " 'm_ap_suprime_r',\n",
       " 'merr_ap_suprime_r',\n",
       " 'flag_suprime_r',\n",
       " 'f_gpc1_r',\n",
       " 'ferr_gpc1_r',\n",
       " 'f_ap_gpc1_r',\n",
       " 'ferr_ap_gpc1_r',\n",
       " 'm_gpc1_r',\n",
       " 'merr_gpc1_r',\n",
       " 'm_ap_gpc1_r',\n",
       " 'merr_ap_gpc1_r',\n",
       " 'flag_gpc1_r',\n",
       " 'f_wfc_r',\n",
       " 'ferr_wfc_r',\n",
       " 'f_ap_wfc_r',\n",
       " 'ferr_ap_wfc_r',\n",
       " 'm_wfc_r',\n",
       " 'merr_wfc_r',\n",
       " 'm_ap_wfc_r',\n",
       " 'merr_ap_wfc_r',\n",
       " 'flag_wfc_r',\n",
       " 'f_megacam_r',\n",
       " 'ferr_megacam_r',\n",
       " 'f_ap_megacam_r',\n",
       " 'ferr_ap_megacam_r',\n",
       " 'm_megacam_r',\n",
       " 'merr_megacam_r',\n",
       " 'm_ap_megacam_r',\n",
       " 'merr_ap_megacam_r',\n",
       " 'flag_megacam_r',\n",
       " 'f_gpc1_i',\n",
       " 'ferr_gpc1_i',\n",
       " 'f_ap_gpc1_i',\n",
       " 'ferr_ap_gpc1_i',\n",
       " 'm_gpc1_i',\n",
       " 'merr_gpc1_i',\n",
       " 'm_ap_gpc1_i',\n",
       " 'merr_ap_gpc1_i',\n",
       " 'flag_gpc1_i',\n",
       " 'f_suprime_i',\n",
       " 'ferr_suprime_i',\n",
       " 'f_ap_suprime_i',\n",
       " 'ferr_ap_suprime_i',\n",
       " 'm_suprime_i',\n",
       " 'merr_suprime_i',\n",
       " 'm_ap_suprime_i',\n",
       " 'merr_ap_suprime_i',\n",
       " 'flag_suprime_i',\n",
       " 'f_wfc_i',\n",
       " 'ferr_wfc_i',\n",
       " 'f_ap_wfc_i',\n",
       " 'ferr_ap_wfc_i',\n",
       " 'm_wfc_i',\n",
       " 'merr_wfc_i',\n",
       " 'm_ap_wfc_i',\n",
       " 'merr_ap_wfc_i',\n",
       " 'flag_wfc_i',\n",
       " 'f_gpc1_z',\n",
       " 'ferr_gpc1_z',\n",
       " 'f_ap_gpc1_z',\n",
       " 'ferr_ap_gpc1_z',\n",
       " 'm_gpc1_z',\n",
       " 'merr_gpc1_z',\n",
       " 'm_ap_gpc1_z',\n",
       " 'merr_ap_gpc1_z',\n",
       " 'flag_gpc1_z',\n",
       " 'f_wfc_z',\n",
       " 'ferr_wfc_z',\n",
       " 'f_ap_wfc_z',\n",
       " 'ferr_ap_wfc_z',\n",
       " 'm_wfc_z',\n",
       " 'merr_wfc_z',\n",
       " 'm_ap_wfc_z',\n",
       " 'merr_ap_wfc_z',\n",
       " 'flag_wfc_z',\n",
       " 'f_megacam_z',\n",
       " 'ferr_megacam_z',\n",
       " 'f_ap_megacam_z',\n",
       " 'ferr_ap_megacam_z',\n",
       " 'm_megacam_z',\n",
       " 'merr_megacam_z',\n",
       " 'm_ap_megacam_z',\n",
       " 'merr_ap_megacam_z',\n",
       " 'flag_megacam_z',\n",
       " 'f_suprime_z',\n",
       " 'ferr_suprime_z',\n",
       " 'f_ap_suprime_z',\n",
       " 'ferr_ap_suprime_z',\n",
       " 'm_suprime_z',\n",
       " 'merr_suprime_z',\n",
       " 'm_ap_suprime_z',\n",
       " 'merr_ap_suprime_z',\n",
       " 'flag_suprime_z',\n",
       " 'f_suprime_n921',\n",
       " 'ferr_suprime_n921',\n",
       " 'f_ap_suprime_n921',\n",
       " 'ferr_ap_suprime_n921',\n",
       " 'm_suprime_n921',\n",
       " 'merr_suprime_n921',\n",
       " 'm_ap_suprime_n921',\n",
       " 'merr_ap_suprime_n921',\n",
       " 'flag_suprime_n921',\n",
       " 'f_gpc1_y',\n",
       " 'ferr_gpc1_y',\n",
       " 'f_ap_gpc1_y',\n",
       " 'ferr_ap_gpc1_y',\n",
       " 'm_gpc1_y',\n",
       " 'merr_gpc1_y',\n",
       " 'm_ap_gpc1_y',\n",
       " 'merr_ap_gpc1_y',\n",
       " 'flag_gpc1_y',\n",
       " 'f_suprime_y',\n",
       " 'ferr_suprime_y',\n",
       " 'f_ap_suprime_y',\n",
       " 'ferr_ap_suprime_y',\n",
       " 'm_suprime_y',\n",
       " 'merr_suprime_y',\n",
       " 'm_ap_suprime_y',\n",
       " 'merr_ap_suprime_y',\n",
       " 'flag_suprime_y',\n",
       " 'f_ukidss_j',\n",
       " 'ferr_ukidss_j',\n",
       " 'f_ap_ukidss_j',\n",
       " 'ferr_ap_ukidss_j',\n",
       " 'm_ukidss_j',\n",
       " 'merr_ukidss_j',\n",
       " 'm_ap_ukidss_j',\n",
       " 'merr_ap_ukidss_j',\n",
       " 'flag_ukidss_j',\n",
       " 'f_ukidss_k',\n",
       " 'ferr_ukidss_k',\n",
       " 'f_ap_ukidss_k',\n",
       " 'ferr_ap_ukidss_k',\n",
       " 'm_ukidss_k',\n",
       " 'merr_ukidss_k',\n",
       " 'm_ap_ukidss_k',\n",
       " 'merr_ap_ukidss_k',\n",
       " 'flag_ukidss_k',\n",
       " 'f_irac_i1',\n",
       " 'ferr_irac_i1',\n",
       " 'f_ap_irac_i1',\n",
       " 'ferr_ap_irac_i1',\n",
       " 'm_irac_i1',\n",
       " 'merr_irac_i1',\n",
       " 'm_ap_irac_i1',\n",
       " 'merr_ap_irac_i1',\n",
       " 'flag_irac_i1',\n",
       " 'f_irac_i2',\n",
       " 'ferr_irac_i2',\n",
       " 'f_ap_irac_i2',\n",
       " 'ferr_ap_irac_i2',\n",
       " 'm_irac_i2',\n",
       " 'merr_irac_i2',\n",
       " 'm_ap_irac_i2',\n",
       " 'merr_ap_irac_i2',\n",
       " 'flag_irac_i2',\n",
       " 'f_irac_i3',\n",
       " 'ferr_irac_i3',\n",
       " 'f_ap_irac_i3',\n",
       " 'ferr_ap_irac_i3',\n",
       " 'm_irac_i3',\n",
       " 'merr_irac_i3',\n",
       " 'm_ap_irac_i3',\n",
       " 'merr_ap_irac_i3',\n",
       " 'flag_irac_i3',\n",
       " 'f_irac_i4',\n",
       " 'ferr_irac_i4',\n",
       " 'f_ap_irac_i4',\n",
       " 'ferr_ap_irac_i4',\n",
       " 'm_irac_i4',\n",
       " 'merr_irac_i4',\n",
       " 'm_ap_irac_i4',\n",
       " 'merr_ap_irac_i4',\n",
       " 'flag_irac_i4',\n",
       " 'f_mips_24',\n",
       " 'ferr_mips_24',\n",
       " 'flag_mips_24',\n",
       " 'f_pacs_green',\n",
       " 'ferr_pacs_green',\n",
       " 'flag_pacs_green',\n",
       " 'f_pacs_red',\n",
       " 'ferr_pacs_red',\n",
       " 'flag_pacs_red',\n",
       " 'f_spire_250',\n",
       " 'ferr_spire_250',\n",
       " 'flag_spire_250',\n",
       " 'f_spire_350',\n",
       " 'ferr_spire_350',\n",
       " 'flag_spire_350',\n",
       " 'f_spire_500',\n",
       " 'ferr_spire_500',\n",
       " 'flag_spire_500',\n",
       " 'cigale_mstar',\n",
       " 'cigale_mstar_err',\n",
       " 'cigale_sfr',\n",
       " 'cigale_sfr_err',\n",
       " 'cigale_dustlumin',\n",
       " 'cigale_dustlumin_err',\n",
       " 'cigale_dustlumin_ironly',\n",
       " 'cigale_dustlumin_ironly_err',\n",
       " 'flag_cigale',\n",
       " 'flag_cigale_opt',\n",
       " 'flag_cigale_ir',\n",
       " 'flag_cigale_ironly',\n",
       " 'stellarity',\n",
       " 'stellarity_origin',\n",
       " 'flag_cleaned',\n",
       " 'flag_merged',\n",
       " 'flag_gaia',\n",
       " 'flag_optnir_obs',\n",
       " 'flag_optnir_det',\n",
       " 'zspec_qual',\n",
       " 'zspec_association_flag']"
      ]
     },
     "execution_count": 4,
     "metadata": {},
     "output_type": "execute_result"
    }
   ],
   "source": [
    "cat.colnames"
   ]
  },
  {
   "cell_type": "code",
   "execution_count": 6,
   "metadata": {},
   "outputs": [],
   "source": [
    "total = len(cat)\n",
    "photoz = np.sum(~np.isnan(cat['redshift']))\n",
    "specz = np.sum(~np.isnan(cat['zspec']))\n",
    "optnir_obs = np.sum(((cat['flag_optnir_obs'] == 3) \n",
    "          | (cat['flag_optnir_obs'] == 7)))\n",
    "optnir_det = np.sum(((cat['flag_optnir_det'] == 3) \n",
    "          | (cat['flag_optnir_det'] == 7)))\n",
    "cigale_dustlumin = np.sum(~np.isnan(cat['cigale_dustlumin']))"
   ]
  },
  {
   "cell_type": "code",
   "execution_count": 8,
   "metadata": {},
   "outputs": [],
   "source": [
    "good = {}\n",
    "for band in ['pacs_green', 'pacs_red', 'spire_250', 'spire_350', 'spire_500']:\n",
    "    good[band] = (~np.isnan(cat['f_{}'.format(band)]) & \n",
    "                                   ~cat['flag_{}'.format(band)])\n",
    "    good[band][good[band]] &= (cat[good[band]]['f_{}'.format(band)] /\n",
    "                              cat[good[band]]['ferr_{}'.format(band)] >= 2)"
   ]
  },
  {
   "cell_type": "code",
   "execution_count": 9,
   "metadata": {},
   "outputs": [],
   "source": [
    "combined_good = np.sum(list(good.values()), axis=0) >= 2\n",
    "num_good = np.sum(combined_good)"
   ]
  },
  {
   "cell_type": "code",
   "execution_count": 37,
   "metadata": {},
   "outputs": [],
   "source": [
    "any_xid = np.sum(np.sum(list(good.values()), axis=0) >= 1)"
   ]
  },
  {
   "cell_type": "code",
   "execution_count": 11,
   "metadata": {},
   "outputs": [],
   "source": [
    "blind = Table.read(dmu + 'dmu22/dmu22_ELAIS-N1/data/dmu22_XID+SPIRE_ELAIS-N1_BLIND_Matched_MF.fits')"
   ]
  },
  {
   "cell_type": "code",
   "execution_count": 40,
   "metadata": {},
   "outputs": [
    {
     "name": "stdout",
     "output_type": "stream",
     "text": [
      "\n",
      "Total number: 40263\n",
      "Photometric redshifts: 27327\n",
      "Spectrographic redshifts: 46\n",
      "observed in optical and nir:34273\n",
      "Detected in optical and nir: 4653\n",
      "Any XID+: 1028\n",
      "Two or more XID+ fluxes with a S/N above two: 518\n",
      "CIGALE dust luminosities: 507\n",
      "\n",
      "Blind fluxes: 34501\n",
      "\n"
     ]
    }
   ],
   "source": [
    "print(\n",
    "\"\"\"\n",
    "Total number: {}\n",
    "Photometric redshifts: {}\n",
    "Spectrographic redshifts: {}\n",
    "observed in optical and nir:{}\n",
    "Detected in optical and nir: {}\n",
    "Any XID+: {}\n",
    "Two or more XID+ fluxes with a S/N above two: {}\n",
    "CIGALE dust luminosities: {}\n",
    "\n",
    "Blind fluxes: {}\n",
    "\"\"\".format(total, photoz, specz, optnir_obs, optnir_det, any_xid, num_good, cigale_dustlumin, len(blind))\n",
    ")"
   ]
  },
  {
   "cell_type": "code",
   "execution_count": 12,
   "metadata": {},
   "outputs": [
    {
     "data": {
      "text/html": [
       "<i>Table length=34501</i>\n",
       "<table id=\"table34707427512\" class=\"table-striped table-bordered table-condensed\">\n",
       "<thead><tr><th>HELP_ID</th><th>RA</th><th>Dec</th><th>F_SPIRE_250</th><th>FErr_SPIRE_250_u</th><th>FErr_SPIRE_250_l</th><th>F_SPIRE_350</th><th>FErr_SPIRE_350_u</th><th>FErr_SPIRE_350_l</th><th>F_SPIRE_500</th><th>FErr_SPIRE_500_u</th><th>FErr_SPIRE_500_l</th><th>Bkg_SPIRE_250</th><th>Bkg_SPIRE_350</th><th>Bkg_SPIRE_500</th><th>Sig_conf_SPIRE_250</th><th>Sig_conf_SPIRE_350</th><th>Sig_conf_SPIRE_500</th><th>Rhat_SPIRE_250</th><th>Rhat_SPIRE_350</th><th>Rhat_SPIRE_500</th><th>n_eff_SPIRE_250</th><th>n_eff_SPIRE_500</th><th>n_eff_SPIRE_350</th><th>Pval_res_250</th><th>Pval_res_350</th><th>Pval_res_500</th><th>flag_spire_250</th><th>flag_spire_350</th><th>flag_spire_500</th><th>F_BLIND_MF_SPIRE_250</th><th>FErr_BLIND_MF_SPIRE_250</th><th>F_BLIND_MF_SPIRE_350</th><th>FErr_BLIND_MF_SPIRE_350</th><th>F_BLIND_MF_SPIRE_500</th><th>FErr_BLIND_MF_SPIRE_500</th><th>r</th><th>P</th><th>RA_pix</th><th>Dec_pix</th><th>F_BLIND_pix_SPIRE</th><th>FErr_BLIND_pix_SPIRE</th><th>flag</th><th>field</th></tr></thead>\n",
       "<thead><tr><th></th><th>deg</th><th>deg</th><th>mJy</th><th>mJy</th><th>mJy</th><th>mJy</th><th>mJy</th><th>mJy</th><th>mJy</th><th>mJy</th><th>mJy</th><th>mJy/Beam</th><th>mJy/Beam</th><th>mJy/Beam</th><th>mJy/Beam</th><th>mJy/Beam</th><th>mJy/Beam</th><th></th><th></th><th></th><th></th><th></th><th></th><th></th><th></th><th></th><th></th><th></th><th></th><th>mJy</th><th>mJy</th><th>mJy</th><th>mJy</th><th>mJy</th><th>mJy</th><th></th><th></th><th>deg</th><th>deg</th><th>mJy</th><th>mJy</th><th></th><th></th></tr></thead>\n",
       "<thead><tr><th>bytes33</th><th>float64</th><th>float64</th><th>float32</th><th>float32</th><th>float32</th><th>float32</th><th>float32</th><th>float32</th><th>float32</th><th>float32</th><th>float32</th><th>float32</th><th>float32</th><th>float32</th><th>float32</th><th>float32</th><th>float32</th><th>float32</th><th>float32</th><th>float32</th><th>float32</th><th>float32</th><th>float32</th><th>float32</th><th>float32</th><th>float32</th><th>bool</th><th>bool</th><th>bool</th><th>float64</th><th>float64</th><th>float64</th><th>float64</th><th>float64</th><th>float64</th><th>float64</th><th>float64</th><th>float64</th><th>float64</th><th>float64</th><th>float64</th><th>float64</th><th>bytes8</th></tr></thead>\n",
       "<tr><td>HELP_BLIND_J160632.875+532632.977</td><td>241.636978338</td><td>53.4424936064</td><td>1076.33</td><td>1076.8</td><td>1075.26</td><td>427.055</td><td>427.244</td><td>426.666</td><td>159.727</td><td>163.28</td><td>156.231</td><td>-1.55586</td><td>-2.42432</td><td>-3.06282</td><td>3.35838</td><td>3.84398</td><td>3.66125</td><td>nan</td><td>nan</td><td>0.998975</td><td>2000.0</td><td>2000.0</td><td>2000.0</td><td>1.0</td><td>1.0</td><td>0.023</td><td>True</td><td>True</td><td>False</td><td>1140.50629392</td><td>4.77535402759</td><td>468.565557386</td><td>4.08779933259</td><td>168.506495477</td><td>4.41951570253</td><td>0.791075653042</td><td>1.0</td><td>241.636978338</td><td>53.4424936064</td><td>998.881328623</td><td>4.66599172002</td><td>0.0</td><td>ELAIS-N1</td></tr>\n",
       "<tr><td>HELP_BLIND_J162125.844+560032.529</td><td>245.35768359</td><td>56.0090356967</td><td>664.985</td><td>665.046</td><td>664.86</td><td>290.62</td><td>290.954</td><td>289.936</td><td>113.407</td><td>116.621</td><td>109.761</td><td>-1.76194</td><td>-2.83147</td><td>-3.68506</td><td>3.12063</td><td>3.55522</td><td>3.42869</td><td>nan</td><td>0.998889</td><td>0.999054</td><td>2000.0</td><td>2000.0</td><td>2000.0</td><td>1.0</td><td>0.977</td><td>0.0</td><td>True</td><td>True</td><td>False</td><td>739.705538717</td><td>4.34473856052</td><td>311.952465568</td><td>4.31514746403</td><td>120.880137992</td><td>4.15858404751</td><td>0.791540035071</td><td>1.0</td><td>245.359703124</td><td>56.0095512814</td><td>702.786583897</td><td>4.20826911295</td><td>0.0</td><td>ELAIS-N1</td></tr>\n",
       "<tr><td>HELP_BLIND_J162142.463+550507.737</td><td>245.426928007</td><td>55.0854824399</td><td>587.186</td><td>587.204</td><td>587.148</td><td>348.359</td><td>348.39</td><td>348.29</td><td>181.838</td><td>181.95</td><td>181.591</td><td>-2.02969</td><td>-3.04947</td><td>-4.12214</td><td>4.88609</td><td>3.99158</td><td>3.16565</td><td>nan</td><td>nan</td><td>1.00035</td><td>2000.0</td><td>2000.0</td><td>2000.0</td><td>1.0</td><td>1.0</td><td>1.0</td><td>True</td><td>True</td><td>True</td><td>647.626125823</td><td>4.05959037069</td><td>392.912005306</td><td>4.12602862743</td><td>212.292063309</td><td>4.72892359291</td><td>0.918910496901</td><td>1.0</td><td>245.428329761</td><td>55.0846199318</td><td>531.37859235</td><td>4.03539488034</td><td>0.0</td><td>ELAIS-N1</td></tr>\n",
       "<tr><td>HELP_BLIND_J160440.548+553408.377</td><td>241.168951668</td><td>55.5689935582</td><td>351.022</td><td>351.257</td><td>350.522</td><td>154.453</td><td>155.922</td><td>152.204</td><td>55.5004</td><td>58.4821</td><td>52.4756</td><td>-2.24146</td><td>-3.05055</td><td>-3.99884</td><td>3.62815</td><td>3.50418</td><td>2.88797</td><td>0.999997</td><td>0.998483</td><td>1.00049</td><td>2000.0</td><td>2000.0</td><td>2000.0</td><td>1.0</td><td>0.414</td><td>0.0</td><td>True</td><td>False</td><td>False</td><td>382.604669325</td><td>4.1673608927</td><td>164.509445732</td><td>4.2238054563</td><td>57.1061186037</td><td>4.21984324987</td><td>0.809600737179</td><td>1.0</td><td>241.17038784</td><td>55.5698473331</td><td>390.08964601</td><td>4.07405174704</td><td>0.0</td><td>ELAIS-N1</td></tr>\n",
       "<tr><td>HELP_BLIND_J161457.172+555221.809</td><td>243.738214947</td><td>55.8727246474</td><td>480.518</td><td>480.547</td><td>480.456</td><td>280.632</td><td>280.747</td><td>280.368</td><td>129.123</td><td>129.689</td><td>127.911</td><td>-2.08797</td><td>-3.1435</td><td>-4.46048</td><td>3.71346</td><td>3.61119</td><td>3.33469</td><td>nan</td><td>nan</td><td>0.999028</td><td>2000.0</td><td>2000.0</td><td>2000.0</td><td>1.0</td><td>1.0</td><td>0.907</td><td>True</td><td>True</td><td>True</td><td>516.444281112</td><td>4.32067142923</td><td>284.311314575</td><td>4.09436185983</td><td>135.82547951</td><td>4.06230888317</td><td>0.844201685252</td><td>1.0</td><td>243.738214947</td><td>55.8727246474</td><td>388.29548067</td><td>4.22411263461</td><td>0.0</td><td>ELAIS-N1</td></tr>\n",
       "<tr><td>HELP_BLIND_J162211.111+550253.624</td><td>245.546293769</td><td>55.0482289133</td><td>380.147</td><td>383.476</td><td>376.759</td><td>138.503</td><td>139.286</td><td>136.917</td><td>48.7032</td><td>51.9374</td><td>45.278</td><td>-2.02969</td><td>-3.04947</td><td>-4.12214</td><td>4.88609</td><td>3.99158</td><td>3.16565</td><td>1.00059</td><td>1.00117</td><td>0.999319</td><td>2000.0</td><td>2000.0</td><td>2000.0</td><td>1.0</td><td>0.223</td><td>0.0</td><td>True</td><td>False</td><td>False</td><td>389.079873014</td><td>4.24136125822</td><td>151.283621244</td><td>4.14443547451</td><td>48.4509332225</td><td>4.63132306518</td><td>0.780696770705</td><td>1.0</td><td>245.545361874</td><td>55.0488047962</td><td>382.511852457</td><td>4.15337034669</td><td>0.0</td><td>ELAIS-N1</td></tr>\n",
       "<tr><td>HELP_BLIND_J161819.200+541858.711</td><td>244.579999282</td><td>54.3163086024</td><td>346.797</td><td>346.945</td><td>346.482</td><td>150.574</td><td>151.816</td><td>148.676</td><td>49.5033</td><td>52.4269</td><td>46.5055</td><td>-1.83065</td><td>-2.81899</td><td>-3.54147</td><td>3.69246</td><td>3.9439</td><td>3.51558</td><td>nan</td><td>0.999048</td><td>0.999646</td><td>2000.0</td><td>2000.0</td><td>2000.0</td><td>1.0</td><td>0.622</td><td>0.013</td><td>True</td><td>True</td><td>False</td><td>378.010902187</td><td>2.99815055187</td><td>158.14285086</td><td>3.09839306503</td><td>53.9159504318</td><td>3.30892308804</td><td>0.816939493409</td><td>1.0</td><td>244.580928367</td><td>54.3157402372</td><td>366.413881019</td><td>2.93496704345</td><td>0.0</td><td>ELAIS-N1</td></tr>\n",
       "<tr><td>HELP_BLIND_J162147.815+543923.579</td><td>245.449231188</td><td>54.6565497482</td><td>365.206</td><td>365.286</td><td>365.033</td><td>169.036</td><td>169.293</td><td>168.506</td><td>79.5719</td><td>81.7182</td><td>77.1187</td><td>-0.49873</td><td>-2.28561</td><td>-0.628736</td><td>0.00758516</td><td>2.79763</td><td>0.0163243</td><td>nan</td><td>0.998748</td><td>1.00149</td><td>2000.0</td><td>2000.0</td><td>2000.0</td><td>1.0</td><td>1.0</td><td>0.0</td><td>True</td><td>True</td><td>False</td><td>392.181170515</td><td>4.30389837481</td><td>177.02081314</td><td>4.11187631612</td><td>82.3135893851</td><td>4.28506306346</td><td>0.826258848631</td><td>1.0</td><td>245.447740328</td><td>54.6557473338</td><td>353.951713191</td><td>4.15276917641</td><td>0.0</td><td>ELAIS-N1</td></tr>\n",
       "<tr><td>HELP_BLIND_J160958.915+563743.981</td><td>242.49548012</td><td>56.6288836412</td><td>367.262</td><td>367.31</td><td>367.158</td><td>199.15</td><td>199.261</td><td>198.913</td><td>97.4717</td><td>98.2493</td><td>95.966</td><td>-1.87718</td><td>-2.93835</td><td>-4.03811</td><td>3.25176</td><td>3.50547</td><td>2.96322</td><td>nan</td><td>0.998595</td><td>0.999075</td><td>2000.0</td><td>2000.0</td><td>2000.0</td><td>1.0</td><td>1.0</td><td>0.068</td><td>True</td><td>True</td><td>False</td><td>408.881757481</td><td>4.18486613128</td><td>215.903292058</td><td>4.05950542677</td><td>101.845758707</td><td>4.22765053111</td><td>0.790348568402</td><td>1.0</td><td>242.49446452</td><td>56.6294353723</td><td>346.338082983</td><td>4.08961032528</td><td>0.0</td><td>ELAIS-N1</td></tr>\n",
       "<tr><td>...</td><td>...</td><td>...</td><td>...</td><td>...</td><td>...</td><td>...</td><td>...</td><td>...</td><td>...</td><td>...</td><td>...</td><td>...</td><td>...</td><td>...</td><td>...</td><td>...</td><td>...</td><td>...</td><td>...</td><td>...</td><td>...</td><td>...</td><td>...</td><td>...</td><td>...</td><td>...</td><td>...</td><td>...</td><td>...</td><td>...</td><td>...</td><td>...</td><td>...</td><td>...</td><td>...</td><td>...</td><td>...</td><td>...</td><td>...</td><td>...</td><td>...</td><td>...</td><td>...</td></tr>\n",
       "<tr><td>HELP_BLIND_J161804.940+550319.828</td><td>244.520582162</td><td>55.0555076826</td><td>4.61208</td><td>7.40185</td><td>2.0584</td><td>15.8249</td><td>18.8181</td><td>12.6684</td><td>14.2759</td><td>17.2198</td><td>11.3683</td><td>-2.15349</td><td>-3.34299</td><td>-4.0866</td><td>3.25136</td><td>3.42145</td><td>3.03644</td><td>0.999151</td><td>0.998109</td><td>1.00019</td><td>2000.0</td><td>2000.0</td><td>2000.0</td><td>0.0</td><td>0.0</td><td>0.001</td><td>True</td><td>False</td><td>False</td><td>5.01901577886</td><td>4.35399781425</td><td>11.5041025387</td><td>4.68066304579</td><td>12.644021198</td><td>4.04392173216</td><td>0.483818536969</td><td>0.852459016393</td><td>244.524504536</td><td>55.0565671791</td><td>18.6757302533</td><td>4.22739011711</td><td>2.0</td><td>ELAIS-N1</td></tr>\n",
       "<tr><td>HELP_BLIND_J161630.733+564918.601</td><td>244.128052883</td><td>56.821833631</td><td>14.3537</td><td>18.2197</td><td>10.4779</td><td>10.1921</td><td>14.142</td><td>6.18768</td><td>7.22528</td><td>11.8982</td><td>2.84556</td><td>-0.0158967</td><td>-0.0226623</td><td>-0.0219314</td><td>0.00193295</td><td>0.00277015</td><td>0.00400333</td><td>0.999507</td><td>0.999304</td><td>0.99952</td><td>2000.0</td><td>2000.0</td><td>2000.0</td><td>0.0</td><td>0.0</td><td>0.0</td><td>False</td><td>False</td><td>False</td><td>13.7003495645</td><td>6.34179723471</td><td>7.86133812153</td><td>6.18029571869</td><td>14.6988705229</td><td>6.80127221012</td><td>0.6122444846</td><td>0.852459016393</td><td>244.130046331</td><td>56.8207041169</td><td>18.6708843793</td><td>6.68554064896</td><td>2.0</td><td>ELAIS-N1</td></tr>\n",
       "<tr><td>HELP_BLIND_J162237.071+560704.132</td><td>245.65446323</td><td>56.1178143637</td><td>5.44324</td><td>9.61713</td><td>2.32294</td><td>3.18857</td><td>6.10319</td><td>1.03725</td><td>2.47703</td><td>5.50797</td><td>0.684801</td><td>-0.0224832</td><td>-0.0340148</td><td>-0.0279722</td><td>0.00206776</td><td>0.00292398</td><td>0.00388223</td><td>0.99955</td><td>1.00262</td><td>0.998199</td><td>2000.0</td><td>2000.0</td><td>2000.0</td><td>0.0</td><td>0.0</td><td>0.0</td><td>True</td><td>True</td><td>True</td><td>9.56328020445</td><td>7.06445506023</td><td>10.8251573303</td><td>6.73430791289</td><td>12.7273075863</td><td>8.30811696888</td><td>0.609203178589</td><td>0.852459016393</td><td>245.662578642</td><td>56.1198565602</td><td>18.6620382042</td><td>7.0077368405</td><td>2.0</td><td>ELAIS-N1</td></tr>\n",
       "<tr><td>HELP_BLIND_J160949.222+560206.563</td><td>242.455090645</td><td>56.0351563739</td><td>11.3992</td><td>14.1536</td><td>8.648</td><td>12.025</td><td>14.7527</td><td>9.31544</td><td>14.418</td><td>17.5761</td><td>11.5253</td><td>-2.22768</td><td>-3.236</td><td>-4.09313</td><td>3.1203</td><td>3.4671</td><td>3.06467</td><td>0.998709</td><td>0.999287</td><td>0.999224</td><td>2000.0</td><td>2000.0</td><td>2000.0</td><td>0.0</td><td>0.001</td><td>0.0</td><td>False</td><td>False</td><td>False</td><td>7.92920966866</td><td>4.03868867148</td><td>8.90802158331</td><td>4.0315302319</td><td>13.038333866</td><td>4.20314620838</td><td>0.686373942846</td><td>0.852459016393</td><td>242.453089168</td><td>56.036259739</td><td>18.6569010042</td><td>4.12882846638</td><td>2.0</td><td>ELAIS-N1</td></tr>\n",
       "<tr><td>HELP_BLIND_J160951.426+534541.718</td><td>242.464274239</td><td>53.7615884532</td><td>8.30105</td><td>10.436</td><td>6.13337</td><td>14.4688</td><td>16.655</td><td>12.3</td><td>22.8386</td><td>24.822</td><td>20.5799</td><td>-1.69414</td><td>-2.69073</td><td>-3.81169</td><td>3.82947</td><td>4.08042</td><td>3.72662</td><td>0.999431</td><td>0.999272</td><td>0.998451</td><td>2000.0</td><td>2000.0</td><td>2000.0</td><td>0.988</td><td>1.0</td><td>1.0</td><td>True</td><td>True</td><td>True</td><td>6.1954626502</td><td>2.24327632012</td><td>9.80511462522</td><td>2.2139329285</td><td>13.3676344579</td><td>2.28531591321</td><td>0.715085920505</td><td>0.852459016393</td><td>242.461473851</td><td>53.7599121157</td><td>18.6477530939</td><td>2.23075394705</td><td>2.0</td><td>ELAIS-N1</td></tr>\n",
       "<tr><td>HELP_BLIND_J160159.046+551318.017</td><td>240.496023647</td><td>55.2216712795</td><td>9.9899</td><td>12.7842</td><td>7.21185</td><td>14.4168</td><td>17.2088</td><td>11.6496</td><td>15.2082</td><td>18.6563</td><td>11.8799</td><td>-1.73793</td><td>-2.67626</td><td>-3.69801</td><td>3.03075</td><td>3.35988</td><td>3.0248</td><td>1.00023</td><td>0.999383</td><td>0.998728</td><td>2000.0</td><td>2000.0</td><td>2000.0</td><td>0.0</td><td>0.0</td><td>0.0</td><td>False</td><td>False</td><td>False</td><td>3.37869008963</td><td>4.24028131697</td><td>6.85625461265</td><td>4.09136444847</td><td>11.6405207901</td><td>4.63512057817</td><td>0.468610076627</td><td>0.852459016393</td><td>240.498841294</td><td>55.2233941154</td><td>18.6390324352</td><td>4.41404380874</td><td>2.0</td><td>ELAIS-N1</td></tr>\n",
       "<tr><td>HELP_BLIND_J160727.422+535809.991</td><td>241.864260061</td><td>53.969441996</td><td>16.0812</td><td>18.1378</td><td>13.9463</td><td>17.9465</td><td>20.0084</td><td>15.7233</td><td>13.3775</td><td>15.6638</td><td>10.9707</td><td>-1.80892</td><td>-2.93647</td><td>-3.80275</td><td>3.70956</td><td>4.18929</td><td>3.8393</td><td>0.998553</td><td>1.00104</td><td>0.999537</td><td>2000.0</td><td>2000.0</td><td>2000.0</td><td>0.971</td><td>0.99</td><td>0.76</td><td>True</td><td>True</td><td>True</td><td>13.5959057272</td><td>2.21524579809</td><td>19.390326671</td><td>2.25862875491</td><td>18.1225938121</td><td>2.31060759415</td><td>0.671992462901</td><td>0.852459016393</td><td>241.85859547</td><td>53.9693925614</td><td>18.6368428145</td><td>2.22553909749</td><td>2.0</td><td>ELAIS-N1</td></tr>\n",
       "<tr><td>HELP_BLIND_J160340.484+543006.982</td><td>240.918683488</td><td>54.5019395525</td><td>11.8594</td><td>14.191</td><td>9.47351</td><td>19.3061</td><td>21.5487</td><td>17.0057</td><td>17.5427</td><td>20.7009</td><td>14.5853</td><td>-1.79189</td><td>-2.65972</td><td>-3.58565</td><td>3.47208</td><td>3.78421</td><td>3.4439</td><td>0.999084</td><td>0.999139</td><td>0.999884</td><td>2000.0</td><td>2000.0</td><td>2000.0</td><td>0.021</td><td>0.782</td><td>0.135</td><td>False</td><td>True</td><td>False</td><td>9.48410637885</td><td>2.93338456719</td><td>16.5761751202</td><td>2.7657592841</td><td>17.2674999601</td><td>2.94721605643</td><td>0.702054278653</td><td>0.852459016393</td><td>240.914914432</td><td>54.5007662246</td><td>18.617425655</td><td>2.81109886052</td><td>2.0</td><td>ELAIS-N1</td></tr>\n",
       "<tr><td>HELP_BLIND_J155910.565+540339.058</td><td>239.794020895</td><td>54.0608493656</td><td>24.637</td><td>29.6112</td><td>19.5004</td><td>19.6607</td><td>25.5459</td><td>13.8274</td><td>1.52186</td><td>2.85497</td><td>0.587725</td><td>-0.0347439</td><td>-0.0475197</td><td>-0.0351746</td><td>0.00213235</td><td>0.00293415</td><td>0.00434024</td><td>0.999198</td><td>0.998406</td><td>0.999211</td><td>2000.0</td><td>2000.0</td><td>2000.0</td><td>0.0</td><td>0.0</td><td>0.0</td><td>False</td><td>False</td><td>True</td><td>25.6602458545</td><td>8.56063092749</td><td>14.5012167686</td><td>10.1774817597</td><td>19.1475737793</td><td>10.1000874234</td><td>0.550555775544</td><td>0.852459016393</td><td>239.794754637</td><td>54.0636466859</td><td>18.6089998027</td><td>7.90734681484</td><td>2.0</td><td>ELAIS-N1</td></tr>\n",
       "<tr><td>HELP_BLIND_J160649.569+561132.277</td><td>241.706536905</td><td>56.1922990605</td><td>5.43856</td><td>8.03777</td><td>2.86725</td><td>13.9756</td><td>16.7158</td><td>11.3009</td><td>10.8369</td><td>14.2245</td><td>7.38754</td><td>-1.79608</td><td>-2.80142</td><td>-3.88406</td><td>2.99607</td><td>3.45696</td><td>3.2385</td><td>1.00183</td><td>0.998991</td><td>1.00161</td><td>2000.0</td><td>2000.0</td><td>2000.0</td><td>0.044</td><td>0.071</td><td>0.002</td><td>True</td><td>False</td><td>False</td><td>-0.75281549866</td><td>3.91367084507</td><td>11.8373216066</td><td>4.03314826083</td><td>15.0000681861</td><td>4.44207887582</td><td>0.412622401241</td><td>0.852459016393</td><td>241.702579561</td><td>56.1911497373</td><td>18.6031327186</td><td>4.34840305976</td><td>2.0</td><td>ELAIS-N1</td></tr>\n",
       "</table>"
      ],
      "text/plain": [
       "<Table length=34501>\n",
       "             HELP_ID                    RA      ...   flag   field  \n",
       "                                       deg      ...                 \n",
       "             bytes33                 float64    ... float64  bytes8 \n",
       "--------------------------------- ------------- ... ------- --------\n",
       "HELP_BLIND_J160632.875+532632.977 241.636978338 ...     0.0 ELAIS-N1\n",
       "HELP_BLIND_J162125.844+560032.529  245.35768359 ...     0.0 ELAIS-N1\n",
       "HELP_BLIND_J162142.463+550507.737 245.426928007 ...     0.0 ELAIS-N1\n",
       "HELP_BLIND_J160440.548+553408.377 241.168951668 ...     0.0 ELAIS-N1\n",
       "HELP_BLIND_J161457.172+555221.809 243.738214947 ...     0.0 ELAIS-N1\n",
       "HELP_BLIND_J162211.111+550253.624 245.546293769 ...     0.0 ELAIS-N1\n",
       "HELP_BLIND_J161819.200+541858.711 244.579999282 ...     0.0 ELAIS-N1\n",
       "HELP_BLIND_J162147.815+543923.579 245.449231188 ...     0.0 ELAIS-N1\n",
       "HELP_BLIND_J160958.915+563743.981  242.49548012 ...     0.0 ELAIS-N1\n",
       "                              ...           ... ...     ...      ...\n",
       "HELP_BLIND_J161804.940+550319.828 244.520582162 ...     2.0 ELAIS-N1\n",
       "HELP_BLIND_J161630.733+564918.601 244.128052883 ...     2.0 ELAIS-N1\n",
       "HELP_BLIND_J162237.071+560704.132  245.65446323 ...     2.0 ELAIS-N1\n",
       "HELP_BLIND_J160949.222+560206.563 242.455090645 ...     2.0 ELAIS-N1\n",
       "HELP_BLIND_J160951.426+534541.718 242.464274239 ...     2.0 ELAIS-N1\n",
       "HELP_BLIND_J160159.046+551318.017 240.496023647 ...     2.0 ELAIS-N1\n",
       "HELP_BLIND_J160727.422+535809.991 241.864260061 ...     2.0 ELAIS-N1\n",
       "HELP_BLIND_J160340.484+543006.982 240.918683488 ...     2.0 ELAIS-N1\n",
       "HELP_BLIND_J155910.565+540339.058 239.794020895 ...     2.0 ELAIS-N1\n",
       "HELP_BLIND_J160649.569+561132.277 241.706536905 ...     2.0 ELAIS-N1"
      ]
     },
     "execution_count": 12,
     "metadata": {},
     "output_type": "execute_result"
    }
   ],
   "source": [
    "blind"
   ]
  },
  {
   "cell_type": "code",
   "execution_count": 32,
   "metadata": {},
   "outputs": [
    {
     "data": {
      "text/plain": [
       "Text(0,0.5,'Number per bin')"
      ]
     },
     "execution_count": 32,
     "metadata": {},
     "output_type": "execute_result"
    },
    {
     "data": {
      "image/png": "[encoded data removed]",
      "text/plain": [
       "<Figure size 432x288 with 1 Axes>"
      ]
     },
     "metadata": {},
     "output_type": "display_data"
    }
   ],
   "source": [
    "plt.hist(np.log10(1.e3*blind['F_SPIRE_250']), \n",
    "         bins=np.linspace(2.5, 6.0, num=30), color='b', alpha=0.5, \n",
    "         label = 'blind SPIRE 250')\n",
    "plt.hist(np.log10(cat['f_spire_250'][~np.isnan(cat['f_spire_250'])]), \n",
    "         bins=np.linspace(2.5, 6.0, num=30), color='r', alpha=0.5, \n",
    "         label = 'main SPIRE 250')\n",
    "plt.legend()\n",
    "plt.xlabel('log10(flux [uJy])')\n",
    "plt.ylabel('Number per bin')"
   ]
  },
  {
   "cell_type": "code",
   "execution_count": 41,
   "metadata": {},
   "outputs": [
    {
     "data": {
      "text/plain": [
       "Text(0,0.5,'Number per bin')"
      ]
     },
     "execution_count": 41,
     "metadata": {},
     "output_type": "execute_result"
    },
    {
     "data": {
      "image/png": "[encoded data removed]",
      "text/plain": [
       "<Figure size 432x288 with 1 Axes>"
      ]
     },
     "metadata": {},
     "output_type": "display_data"
    }
   ],
   "source": [
    "plt.hist(np.log10(1.e3*blind['F_SPIRE_350']), \n",
    "         bins=np.linspace(2.5, 6.0, num=30), color='b', alpha=0.5, \n",
    "         label = 'blind SPIRE 350')\n",
    "plt.hist(np.log10(cat['f_spire_350'][~np.isnan(cat['f_spire_350'])]), \n",
    "         bins=np.linspace(2.5, 6.0, num=30), color='r', alpha=0.5, \n",
    "         label = 'main SPIRE 350')\n",
    "plt.legend()\n",
    "plt.xlabel('log10(flux [uJy])')\n",
    "plt.ylabel('Number per bin')"
   ]
  },
  {
   "cell_type": "code",
   "execution_count": 42,
   "metadata": {},
   "outputs": [
    {
     "data": {
      "text/plain": [
       "Text(0,0.5,'Number per bin')"
      ]
     },
     "execution_count": 42,
     "metadata": {},
     "output_type": "execute_result"
    },
    {
     "data": {
      "image/png": "[encoded data removed]",
      "text/plain": [
       "<Figure size 432x288 with 1 Axes>"
      ]
     },
     "metadata": {},
     "output_type": "display_data"
    }
   ],
   "source": [
    "plt.hist(np.log10(1.e3*blind['F_SPIRE_500']), \n",
    "         bins=np.linspace(2.5, 6.0, num=30), color='b', alpha=0.5, \n",
    "         label = 'blind SPIRE 500')\n",
    "plt.hist(np.log10(cat['f_spire_500'][~np.isnan(cat['f_spire_500'])]), \n",
    "         bins=np.linspace(2.5, 6.0, num=30), color='r', alpha=0.5, \n",
    "         label = 'main SPIRE 500')\n",
    "plt.legend()\n",
    "plt.xlabel('log10(flux [uJy])')\n",
    "plt.ylabel('Number per bin')"
   ]
  },
  {
   "cell_type": "code",
   "execution_count": 46,
   "metadata": {},
   "outputs": [
    {
     "data": {
      "image/png": "[encoded data removed]",
      "text/plain": [
       "<Figure size 720x432 with 1 Axes>"
      ]
     },
     "metadata": {},
     "output_type": "display_data"
    }
   ],
   "source": [
    "nb_merge_dist_plot(\n",
    "    SkyCoord(cat['ra'], cat['dec']),\n",
    "    SkyCoord(blind['RA'], blind['Dec'])\n",
    ")"
   ]
  },
  {
   "cell_type": "code",
   "execution_count": 47,
   "metadata": {},
   "outputs": [
    {
     "data": {
      "image/png": "[encoded data removed]",
      "text/plain": [
       "<Figure size 720x432 with 1 Axes>"
      ]
     },
     "metadata": {},
     "output_type": "display_data"
    }
   ],
   "source": [
    "nb_merge_dist_plot(\n",
    "    SkyCoord(cat['ra'][combined_good], cat['dec'][combined_good]),\n",
    "    SkyCoord(blind['RA'], blind['Dec'])\n",
    ")"
   ]
  },
  {
   "cell_type": "code",
   "execution_count": 48,
   "metadata": {},
   "outputs": [],
   "source": [
    "good_cat = cat[combined_good]"
   ]
  },
  {
   "cell_type": "code",
   "execution_count": 51,
   "metadata": {},
   "outputs": [
    {
     "name": "stderr",
     "output_type": "stream",
     "text": [
      "WARNING: MergeConflictWarning: Cannot merge meta key 'EXTNAME' types <class 'str'> and <class 'str'>, choosing EXTNAME='Tile_39933_7_SPIRE_cat.fits' [astropy.utils.metadata]\n",
      "WARNING: MergeConflictWarning: Cannot merge meta key 'DATE-HDU' types <class 'str'> and <class 'str'>, choosing DATE-HDU='2018-06-29T09:22:20' [astropy.utils.metadata]\n",
      "WARNING: MergeConflictWarning: Cannot merge meta key 'STILVERS' types <class 'str'> and <class 'str'>, choosing STILVERS='3.0-3+' [astropy.utils.metadata]\n",
      "WARNING: MergeConflictWarning: Cannot merge meta key 'EXTNAME' types <class 'str'> and <class 'str'>, choosing EXTNAME='Tile_39933_7_SPIRE_cat.fits' [astropy.utils.metadata]\n",
      "WARNING: MergeConflictWarning: Cannot merge meta key 'DATE-HDU' types <class 'str'> and <class 'str'>, choosing DATE-HDU='2018-06-29T09:22:20' [astropy.utils.metadata]\n",
      "WARNING: MergeConflictWarning: Cannot merge meta key 'STILVERS' types <class 'str'> and <class 'str'>, choosing STILVERS='3.0-3+' [astropy.utils.metadata]\n"
     ]
    }
   ],
   "source": [
    "# Given the graph above, we use 0.8 arc-second radius\n",
    "merge = merge_catalogues(good_cat, blind, \"RA\", \"Dec\", radius=5.0*u.arcsec)"
   ]
  },
  {
   "cell_type": "code",
   "execution_count": 59,
   "metadata": {},
   "outputs": [
    {
     "data": {
      "image/png": "[encoded data removed]",
      "text/plain": [
       "<Figure size 720x432 with 1 Axes>"
      ]
     },
     "metadata": {},
     "output_type": "display_data"
    }
   ],
   "source": [
    "plt.scatter(merge['f_spire_250'], 1.e3*merge['F_SPIRE_250'])\n",
    "plt.plot([1.e4,1.e5],[1.e4,1.e5])\n",
    "plt.yscale('log')\n",
    "plt.xscale('log')"
   ]
  },
  {
   "cell_type": "code",
   "execution_count": null,
   "metadata": {},
   "outputs": [],
   "source": []
  }
 ],
 "metadata": {
  "kernelspec": {
   "display_name": "Python (herschelhelp_internal)",
   "language": "python",
   "name": "helpint"
  },
  "language_info": {
   "codemirror_mode": {
    "name": "ipython",
    "version": 3
   },
   "file_extension": ".py",
   "mimetype": "text/x-python",
   "name": "python",
   "nbconvert_exporter": "python",
   "pygments_lexer": "ipython3",
   "version": "3.6.5"
  }
 },
 "nbformat": 4,
 "nbformat_minor": 2
}
