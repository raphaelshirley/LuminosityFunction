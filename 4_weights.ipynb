{
 "cells": [
  {
   "cell_type": "markdown",
   "metadata": {},
   "source": [
    "# 4. Find weights to apply to account for sample selection\n",
    "\n",
    "The counts we found in [./3_servs_lf.ipynb](./3_servs_lf.ipynb) are much too low. Here we will try to understand the objects thrown away at each stage."
   ]
  },
  {
   "cell_type": "code",
   "execution_count": 1,
   "metadata": {},
   "outputs": [
    {
     "name": "stdout",
     "output_type": "stream",
     "text": [
      "This notebook was run with herschelhelp_internal version: \n",
      "017bb1e (Mon Jun 18 14:58:59 2018 +0100)\n",
      "This notebook was executed on: \n",
      "2018-11-05 16:15:07.194247\n"
     ]
    }
   ],
   "source": [
    "from herschelhelp_internal import git_version\n",
    "print(\"This notebook was run with herschelhelp_internal version: \\n{}\".format(git_version()))\n",
    "import datetime\n",
    "print(\"This notebook was executed on: \\n{}\".format(datetime.datetime.now()))"
   ]
  },
  {
   "cell_type": "code",
   "execution_count": 2,
   "metadata": {},
   "outputs": [
    {
     "name": "stderr",
     "output_type": "stream",
     "text": [
      "/opt/anaconda3/envs/herschelhelp_internal/lib/python3.6/site-packages/seaborn/apionly.py:6: UserWarning: As seaborn no longer sets a default style on import, the seaborn.apionly module is deprecated. It will be removed in a future version.\n",
      "  warnings.warn(msg, UserWarning)\n"
     ]
    }
   ],
   "source": [
    "import numpy as np\n",
    "from astropy.table import Table\n",
    "\n",
    "%matplotlib inline\n",
    "#%config InlineBackend.figure_format = 'svg'\n",
    "\n",
    "import matplotlib.pyplot as plt\n",
    "plt.rc('figure', figsize=(10, 6))\n",
    "\n",
    "from astropy import units as u\n",
    "from astropy.coordinates import SkyCoord\n",
    "\n",
    "from herschelhelp_internal.masterlist import merge_catalogues, nb_merge_dist_plot, specz_merge"
   ]
  },
  {
   "cell_type": "markdown",
   "metadata": {},
   "source": [
    "In Gruppioni et al. (2017) they apply weights due to missing photometric redshifts in the application of the Vmax method\n",
    "\n",
    "$$\n",
    "\\Phi (L,z) = \\frac{1}{\\Delta L} \\sum_i \\frac{1}{w_i V_{\\textrm{max}, i}}\n",
    "$$\n",
    "\n",
    "\n",
    "There are various stages to the selection:\n",
    "\n",
    "1. Survey selection. The object must be bright enough to be detected by at least one of the observing surveys.\n",
    "\n",
    "2. Our detection criteria. We insist objects must have at least two optical and at least 2 near infrared detections.\n",
    "\n",
    "3. Photometric redshift. Objects must have a redshift. What determines whether an object gets a redshift is not entirely understood.\n",
    "\n",
    "4. XID+ fluxes. To pass to CIGALE the object must have at least two FIR fluxes with s/n greater than 5.\n",
    "\n",
    "5. CIGALE fit.\n",
    "\n",
    "First, lets look at the numbers.\n"
   ]
  },
  {
   "cell_type": "code",
   "execution_count": 3,
   "metadata": {},
   "outputs": [],
   "source": [
    "#dmu = '/Users/rs548/GitHub/dmu_products/'\n",
    "dmu = '/mnt/hedam/dmu_products/'\n",
    "cat = Table.read(dmu + 'dmu32/dmu32_ELAIS-N1/data/ELAIS-N1_20171016.fits')"
   ]
  },
  {
   "cell_type": "code",
   "execution_count": 4,
   "metadata": {},
   "outputs": [
    {
     "data": {
      "text/plain": [
       "['help_id',\n",
       " 'field',\n",
       " 'ra',\n",
       " 'dec',\n",
       " 'hp_idx',\n",
       " 'ebv',\n",
       " 'redshift',\n",
       " 'zspec',\n",
       " 'f_wfc_u',\n",
       " 'ferr_wfc_u',\n",
       " 'f_ap_wfc_u',\n",
       " 'ferr_ap_wfc_u',\n",
       " 'm_wfc_u',\n",
       " 'merr_wfc_u',\n",
       " 'm_ap_wfc_u',\n",
       " 'merr_ap_wfc_u',\n",
       " 'flag_wfc_u',\n",
       " 'f_megacam_u',\n",
       " 'ferr_megacam_u',\n",
       " 'f_ap_megacam_u',\n",
       " 'ferr_ap_megacam_u',\n",
       " 'm_megacam_u',\n",
       " 'merr_megacam_u',\n",
       " 'm_ap_megacam_u',\n",
       " 'merr_ap_megacam_u',\n",
       " 'flag_megacam_u',\n",
       " 'f_suprime_g',\n",
       " 'ferr_suprime_g',\n",
       " 'f_ap_suprime_g',\n",
       " 'ferr_ap_suprime_g',\n",
       " 'm_suprime_g',\n",
       " 'merr_suprime_g',\n",
       " 'm_ap_suprime_g',\n",
       " 'merr_ap_suprime_g',\n",
       " 'flag_suprime_g',\n",
       " 'f_megacam_g',\n",
       " 'ferr_megacam_g',\n",
       " 'f_ap_megacam_g',\n",
       " 'ferr_ap_megacam_g',\n",
       " 'm_megacam_g',\n",
       " 'merr_megacam_g',\n",
       " 'm_ap_megacam_g',\n",
       " 'merr_ap_megacam_g',\n",
       " 'flag_megacam_g',\n",
       " 'f_gpc1_g',\n",
       " 'ferr_gpc1_g',\n",
       " 'f_ap_gpc1_g',\n",
       " 'ferr_ap_gpc1_g',\n",
       " 'm_gpc1_g',\n",
       " 'merr_gpc1_g',\n",
       " 'm_ap_gpc1_g',\n",
       " 'merr_ap_gpc1_g',\n",
       " 'flag_gpc1_g',\n",
       " 'f_wfc_g',\n",
       " 'ferr_wfc_g',\n",
       " 'f_ap_wfc_g',\n",
       " 'ferr_ap_wfc_g',\n",
       " 'm_wfc_g',\n",
       " 'merr_wfc_g',\n",
       " 'm_ap_wfc_g',\n",
       " 'merr_ap_wfc_g',\n",
       " 'flag_wfc_g',\n",
       " 'f_suprime_r',\n",
       " 'ferr_suprime_r',\n",
       " 'f_ap_suprime_r',\n",
       " 'ferr_ap_suprime_r',\n",
       " 'm_suprime_r',\n",
       " 'merr_suprime_r',\n",
       " 'm_ap_suprime_r',\n",
       " 'merr_ap_suprime_r',\n",
       " 'flag_suprime_r',\n",
       " 'f_gpc1_r',\n",
       " 'ferr_gpc1_r',\n",
       " 'f_ap_gpc1_r',\n",
       " 'ferr_ap_gpc1_r',\n",
       " 'm_gpc1_r',\n",
       " 'merr_gpc1_r',\n",
       " 'm_ap_gpc1_r',\n",
       " 'merr_ap_gpc1_r',\n",
       " 'flag_gpc1_r',\n",
       " 'f_wfc_r',\n",
       " 'ferr_wfc_r',\n",
       " 'f_ap_wfc_r',\n",
       " 'ferr_ap_wfc_r',\n",
       " 'm_wfc_r',\n",
       " 'merr_wfc_r',\n",
       " 'm_ap_wfc_r',\n",
       " 'merr_ap_wfc_r',\n",
       " 'flag_wfc_r',\n",
       " 'f_megacam_r',\n",
       " 'ferr_megacam_r',\n",
       " 'f_ap_megacam_r',\n",
       " 'ferr_ap_megacam_r',\n",
       " 'm_megacam_r',\n",
       " 'merr_megacam_r',\n",
       " 'm_ap_megacam_r',\n",
       " 'merr_ap_megacam_r',\n",
       " 'flag_megacam_r',\n",
       " 'f_gpc1_i',\n",
       " 'ferr_gpc1_i',\n",
       " 'f_ap_gpc1_i',\n",
       " 'ferr_ap_gpc1_i',\n",
       " 'm_gpc1_i',\n",
       " 'merr_gpc1_i',\n",
       " 'm_ap_gpc1_i',\n",
       " 'merr_ap_gpc1_i',\n",
       " 'flag_gpc1_i',\n",
       " 'f_suprime_i',\n",
       " 'ferr_suprime_i',\n",
       " 'f_ap_suprime_i',\n",
       " 'ferr_ap_suprime_i',\n",
       " 'm_suprime_i',\n",
       " 'merr_suprime_i',\n",
       " 'm_ap_suprime_i',\n",
       " 'merr_ap_suprime_i',\n",
       " 'flag_suprime_i',\n",
       " 'f_wfc_i',\n",
       " 'ferr_wfc_i',\n",
       " 'f_ap_wfc_i',\n",
       " 'ferr_ap_wfc_i',\n",
       " 'm_wfc_i',\n",
       " 'merr_wfc_i',\n",
       " 'm_ap_wfc_i',\n",
       " 'merr_ap_wfc_i',\n",
       " 'flag_wfc_i',\n",
       " 'f_gpc1_z',\n",
       " 'ferr_gpc1_z',\n",
       " 'f_ap_gpc1_z',\n",
       " 'ferr_ap_gpc1_z',\n",
       " 'm_gpc1_z',\n",
       " 'merr_gpc1_z',\n",
       " 'm_ap_gpc1_z',\n",
       " 'merr_ap_gpc1_z',\n",
       " 'flag_gpc1_z',\n",
       " 'f_wfc_z',\n",
       " 'ferr_wfc_z',\n",
       " 'f_ap_wfc_z',\n",
       " 'ferr_ap_wfc_z',\n",
       " 'm_wfc_z',\n",
       " 'merr_wfc_z',\n",
       " 'm_ap_wfc_z',\n",
       " 'merr_ap_wfc_z',\n",
       " 'flag_wfc_z',\n",
       " 'f_megacam_z',\n",
       " 'ferr_megacam_z',\n",
       " 'f_ap_megacam_z',\n",
       " 'ferr_ap_megacam_z',\n",
       " 'm_megacam_z',\n",
       " 'merr_megacam_z',\n",
       " 'm_ap_megacam_z',\n",
       " 'merr_ap_megacam_z',\n",
       " 'flag_megacam_z',\n",
       " 'f_suprime_z',\n",
       " 'ferr_suprime_z',\n",
       " 'f_ap_suprime_z',\n",
       " 'ferr_ap_suprime_z',\n",
       " 'm_suprime_z',\n",
       " 'merr_suprime_z',\n",
       " 'm_ap_suprime_z',\n",
       " 'merr_ap_suprime_z',\n",
       " 'flag_suprime_z',\n",
       " 'f_suprime_n921',\n",
       " 'ferr_suprime_n921',\n",
       " 'f_ap_suprime_n921',\n",
       " 'ferr_ap_suprime_n921',\n",
       " 'm_suprime_n921',\n",
       " 'merr_suprime_n921',\n",
       " 'm_ap_suprime_n921',\n",
       " 'merr_ap_suprime_n921',\n",
       " 'flag_suprime_n921',\n",
       " 'f_gpc1_y',\n",
       " 'ferr_gpc1_y',\n",
       " 'f_ap_gpc1_y',\n",
       " 'ferr_ap_gpc1_y',\n",
       " 'm_gpc1_y',\n",
       " 'merr_gpc1_y',\n",
       " 'm_ap_gpc1_y',\n",
       " 'merr_ap_gpc1_y',\n",
       " 'flag_gpc1_y',\n",
       " 'f_suprime_y',\n",
       " 'ferr_suprime_y',\n",
       " 'f_ap_suprime_y',\n",
       " 'ferr_ap_suprime_y',\n",
       " 'm_suprime_y',\n",
       " 'merr_suprime_y',\n",
       " 'm_ap_suprime_y',\n",
       " 'merr_ap_suprime_y',\n",
       " 'flag_suprime_y',\n",
       " 'f_ukidss_j',\n",
       " 'ferr_ukidss_j',\n",
       " 'f_ap_ukidss_j',\n",
       " 'ferr_ap_ukidss_j',\n",
       " 'm_ukidss_j',\n",
       " 'merr_ukidss_j',\n",
       " 'm_ap_ukidss_j',\n",
       " 'merr_ap_ukidss_j',\n",
       " 'flag_ukidss_j',\n",
       " 'f_ukidss_k',\n",
       " 'ferr_ukidss_k',\n",
       " 'f_ap_ukidss_k',\n",
       " 'ferr_ap_ukidss_k',\n",
       " 'm_ukidss_k',\n",
       " 'merr_ukidss_k',\n",
       " 'm_ap_ukidss_k',\n",
       " 'merr_ap_ukidss_k',\n",
       " 'flag_ukidss_k',\n",
       " 'f_irac_i1',\n",
       " 'ferr_irac_i1',\n",
       " 'f_ap_irac_i1',\n",
       " 'ferr_ap_irac_i1',\n",
       " 'm_irac_i1',\n",
       " 'merr_irac_i1',\n",
       " 'm_ap_irac_i1',\n",
       " 'merr_ap_irac_i1',\n",
       " 'flag_irac_i1',\n",
       " 'f_irac_i2',\n",
       " 'ferr_irac_i2',\n",
       " 'f_ap_irac_i2',\n",
       " 'ferr_ap_irac_i2',\n",
       " 'm_irac_i2',\n",
       " 'merr_irac_i2',\n",
       " 'm_ap_irac_i2',\n",
       " 'merr_ap_irac_i2',\n",
       " 'flag_irac_i2',\n",
       " 'f_irac_i3',\n",
       " 'ferr_irac_i3',\n",
       " 'f_ap_irac_i3',\n",
       " 'ferr_ap_irac_i3',\n",
       " 'm_irac_i3',\n",
       " 'merr_irac_i3',\n",
       " 'm_ap_irac_i3',\n",
       " 'merr_ap_irac_i3',\n",
       " 'flag_irac_i3',\n",
       " 'f_irac_i4',\n",
       " 'ferr_irac_i4',\n",
       " 'f_ap_irac_i4',\n",
       " 'ferr_ap_irac_i4',\n",
       " 'm_irac_i4',\n",
       " 'merr_irac_i4',\n",
       " 'm_ap_irac_i4',\n",
       " 'merr_ap_irac_i4',\n",
       " 'flag_irac_i4',\n",
       " 'f_mips_24',\n",
       " 'ferr_mips_24',\n",
       " 'flag_mips_24',\n",
       " 'f_pacs_green',\n",
       " 'ferr_pacs_green',\n",
       " 'flag_pacs_green',\n",
       " 'f_pacs_red',\n",
       " 'ferr_pacs_red',\n",
       " 'flag_pacs_red',\n",
       " 'f_spire_250',\n",
       " 'ferr_spire_250',\n",
       " 'flag_spire_250',\n",
       " 'f_spire_350',\n",
       " 'ferr_spire_350',\n",
       " 'flag_spire_350',\n",
       " 'f_spire_500',\n",
       " 'ferr_spire_500',\n",
       " 'flag_spire_500',\n",
       " 'cigale_mstar',\n",
       " 'cigale_mstar_err',\n",
       " 'cigale_sfr',\n",
       " 'cigale_sfr_err',\n",
       " 'cigale_dustlumin',\n",
       " 'cigale_dustlumin_err',\n",
       " 'cigale_dustlumin_ironly',\n",
       " 'cigale_dustlumin_ironly_err',\n",
       " 'flag_cigale',\n",
       " 'flag_cigale_opt',\n",
       " 'flag_cigale_ir',\n",
       " 'flag_cigale_ironly',\n",
       " 'stellarity',\n",
       " 'stellarity_origin',\n",
       " 'flag_cleaned',\n",
       " 'flag_merged',\n",
       " 'flag_gaia',\n",
       " 'flag_optnir_obs',\n",
       " 'flag_optnir_det',\n",
       " 'zspec_qual',\n",
       " 'zspec_association_flag']"
      ]
     },
     "execution_count": 4,
     "metadata": {},
     "output_type": "execute_result"
    }
   ],
   "source": [
    "cat.colnames"
   ]
  },
  {
   "cell_type": "code",
   "execution_count": 5,
   "metadata": {},
   "outputs": [],
   "source": [
    "total = len(cat)\n",
    "photoz = np.sum(~np.isnan(cat['redshift']))\n",
    "specz = np.sum(~np.isnan(cat['zspec']))\n",
    "optnir_obs = np.sum(((cat['flag_optnir_obs'] == 3) \n",
    "          | (cat['flag_optnir_obs'] == 7)))\n",
    "optnir_det = np.sum(((cat['flag_optnir_det'] == 3) \n",
    "          | (cat['flag_optnir_det'] == 7)))\n",
    "cigale_dustlumin = np.sum(~np.isnan(cat['cigale_dustlumin']))"
   ]
  },
  {
   "cell_type": "code",
   "execution_count": 6,
   "metadata": {},
   "outputs": [],
   "source": [
    "good = {}\n",
    "for band in ['pacs_green', 'pacs_red', 'spire_250', 'spire_350', 'spire_500']:\n",
    "    good[band] = (~np.isnan(cat['f_{}'.format(band)]) & \n",
    "                                   ~cat['flag_{}'.format(band)])\n",
    "    good[band][good[band]] &= (cat[good[band]]['f_{}'.format(band)] /\n",
    "                              cat[good[band]]['ferr_{}'.format(band)] >= 2)"
   ]
  },
  {
   "cell_type": "code",
   "execution_count": 7,
   "metadata": {},
   "outputs": [],
   "source": [
    "combined_good = np.sum(list(good.values()), axis=0) >= 2\n",
    "num_good = np.sum(combined_good)"
   ]
  },
  {
   "cell_type": "code",
   "execution_count": 8,
   "metadata": {},
   "outputs": [],
   "source": [
    "any_xid = np.sum(np.sum(list(good.values()), axis=0) >= 1)"
   ]
  },
  {
   "cell_type": "code",
   "execution_count": 9,
   "metadata": {},
   "outputs": [],
   "source": [
    "blind = Table.read(dmu + 'dmu22/dmu22_ELAIS-N1/data/dmu22_XID+SPIRE_ELAIS-N1_BLIND_Matched_MF.fits')"
   ]
  },
  {
   "cell_type": "code",
   "execution_count": 10,
   "metadata": {},
   "outputs": [
    {
     "name": "stdout",
     "output_type": "stream",
     "text": [
      "\n",
      "Total number: 4026292\n",
      "Photometric redshifts: 2714686\n",
      "Spectrographic redshifts: 5109\n",
      "observed in optical and nir:3431269\n",
      "Detected in optical and nir: 463203\n",
      "Any XID+: 101548\n",
      "Two or more XID+ fluxes with a S/N above two: 51153\n",
      "CIGALE dust luminosities: 49986\n",
      "\n",
      "Blind fluxes: 34501\n",
      "\n"
     ]
    }
   ],
   "source": [
    "print(\n",
    "\"\"\"\n",
    "Total number: {}\n",
    "Photometric redshifts: {}\n",
    "Spectrographic redshifts: {}\n",
    "observed in optical and nir:{}\n",
    "Detected in optical and nir: {}\n",
    "Any XID+: {}\n",
    "Two or more XID+ fluxes with a S/N above two: {}\n",
    "CIGALE dust luminosities: {}\n",
    "\n",
    "Blind fluxes: {}\n",
    "\"\"\".format(total, photoz, specz, optnir_obs, optnir_det, any_xid, num_good, cigale_dustlumin, len(blind))\n",
    ")"
   ]
  },
  {
   "cell_type": "code",
   "execution_count": 11,
   "metadata": {},
   "outputs": [
    {
     "data": {
      "text/html": [
       "<i>Table length=34501</i>\n",
       "<table id=\"table140301520044104\" class=\"table-striped table-bordered table-condensed\">\n",
       "<thead><tr><th>HELP_ID</th><th>RA</th><th>Dec</th><th>F_SPIRE_250</th><th>FErr_SPIRE_250_u</th><th>FErr_SPIRE_250_l</th><th>F_SPIRE_350</th><th>FErr_SPIRE_350_u</th><th>FErr_SPIRE_350_l</th><th>F_SPIRE_500</th><th>FErr_SPIRE_500_u</th><th>FErr_SPIRE_500_l</th><th>Bkg_SPIRE_250</th><th>Bkg_SPIRE_350</th><th>Bkg_SPIRE_500</th><th>Sig_conf_SPIRE_250</th><th>Sig_conf_SPIRE_350</th><th>Sig_conf_SPIRE_500</th><th>Rhat_SPIRE_250</th><th>Rhat_SPIRE_350</th><th>Rhat_SPIRE_500</th><th>n_eff_SPIRE_250</th><th>n_eff_SPIRE_500</th><th>n_eff_SPIRE_350</th><th>Pval_res_250</th><th>Pval_res_350</th><th>Pval_res_500</th><th>flag_spire_250</th><th>flag_spire_350</th><th>flag_spire_500</th><th>F_BLIND_MF_SPIRE_250</th><th>FErr_BLIND_MF_SPIRE_250</th><th>F_BLIND_MF_SPIRE_350</th><th>FErr_BLIND_MF_SPIRE_350</th><th>F_BLIND_MF_SPIRE_500</th><th>FErr_BLIND_MF_SPIRE_500</th><th>r</th><th>P</th><th>RA_pix</th><th>Dec_pix</th><th>F_BLIND_pix_SPIRE</th><th>FErr_BLIND_pix_SPIRE</th><th>flag</th><th>field</th></tr></thead>\n",
       "<thead><tr><th></th><th>deg</th><th>deg</th><th>mJy</th><th>mJy</th><th>mJy</th><th>mJy</th><th>mJy</th><th>mJy</th><th>mJy</th><th>mJy</th><th>mJy</th><th>mJy/Beam</th><th>mJy/Beam</th><th>mJy/Beam</th><th>mJy/Beam</th><th>mJy/Beam</th><th>mJy/Beam</th><th></th><th></th><th></th><th></th><th></th><th></th><th></th><th></th><th></th><th></th><th></th><th></th><th>mJy</th><th>mJy</th><th>mJy</th><th>mJy</th><th>mJy</th><th>mJy</th><th></th><th></th><th>deg</th><th>deg</th><th>mJy</th><th>mJy</th><th></th><th></th></tr></thead>\n",
       "<thead><tr><th>bytes33</th><th>float64</th><th>float64</th><th>float32</th><th>float32</th><th>float32</th><th>float32</th><th>float32</th><th>float32</th><th>float32</th><th>float32</th><th>float32</th><th>float32</th><th>float32</th><th>float32</th><th>float32</th><th>float32</th><th>float32</th><th>float32</th><th>float32</th><th>float32</th><th>float32</th><th>float32</th><th>float32</th><th>float32</th><th>float32</th><th>float32</th><th>bool</th><th>bool</th><th>bool</th><th>float64</th><th>float64</th><th>float64</th><th>float64</th><th>float64</th><th>float64</th><th>float64</th><th>float64</th><th>float64</th><th>float64</th><th>float64</th><th>float64</th><th>float64</th><th>bytes8</th></tr></thead>\n",
       "<tr><td>HELP_BLIND_J160632.875+532632.977</td><td>241.63697833849417</td><td>53.4424936064113</td><td>1076.3284</td><td>1076.8002</td><td>1075.2565</td><td>427.05466</td><td>427.24368</td><td>426.666</td><td>159.72685</td><td>163.28047</td><td>156.23094</td><td>-1.5558592</td><td>-2.4243228</td><td>-3.0628216</td><td>3.3583806</td><td>3.8439848</td><td>3.6612494</td><td>nan</td><td>nan</td><td>0.9989752</td><td>2000.0</td><td>2000.0</td><td>2000.0</td><td>1.0</td><td>1.0</td><td>0.023</td><td>True</td><td>True</td><td>False</td><td>1140.5062939199252</td><td>4.775354027588683</td><td>468.5655573859009</td><td>4.087799332594563</td><td>168.50649547655374</td><td>4.419515702525272</td><td>0.7910756530416875</td><td>1.0</td><td>241.63697833849417</td><td>53.4424936064113</td><td>998.8813286226596</td><td>4.665991720020079</td><td>0.0</td><td>ELAIS-N1</td></tr>\n",
       "<tr><td>HELP_BLIND_J162125.844+560032.529</td><td>245.35768359048848</td><td>56.00903569669183</td><td>664.98486</td><td>665.04596</td><td>664.8602</td><td>290.6198</td><td>290.95413</td><td>289.9357</td><td>113.4069</td><td>116.6214</td><td>109.76138</td><td>-1.7619379</td><td>-2.8314667</td><td>-3.6850638</td><td>3.120625</td><td>3.5552156</td><td>3.4286942</td><td>nan</td><td>0.99888897</td><td>0.9990541</td><td>2000.0</td><td>2000.0</td><td>2000.0</td><td>1.0</td><td>0.977</td><td>0.0</td><td>True</td><td>True</td><td>False</td><td>739.7055387173003</td><td>4.344738560519794</td><td>311.95246556770326</td><td>4.315147464027572</td><td>120.88013799220789</td><td>4.158584047506172</td><td>0.791540035071294</td><td>1.0</td><td>245.3597031238259</td><td>56.00955128135834</td><td>702.7865838967327</td><td>4.208269112951256</td><td>0.0</td><td>ELAIS-N1</td></tr>\n",
       "<tr><td>HELP_BLIND_J162142.463+550507.737</td><td>245.42692800683182</td><td>55.08548243993107</td><td>587.186</td><td>587.2036</td><td>587.14795</td><td>348.35855</td><td>348.39044</td><td>348.28958</td><td>181.8383</td><td>181.95042</td><td>181.59132</td><td>-2.0296905</td><td>-3.0494676</td><td>-4.122144</td><td>4.886088</td><td>3.9915822</td><td>3.165648</td><td>nan</td><td>nan</td><td>1.0003484</td><td>2000.0</td><td>2000.0</td><td>2000.0</td><td>1.0</td><td>1.0</td><td>1.0</td><td>True</td><td>True</td><td>True</td><td>647.6261258230762</td><td>4.0595903706872685</td><td>392.9120053055415</td><td>4.1260286274262015</td><td>212.29206330880584</td><td>4.7289235929105775</td><td>0.9189104969010979</td><td>1.0</td><td>245.42832976089494</td><td>55.08461993177872</td><td>531.3785923495558</td><td>4.0353948803353115</td><td>0.0</td><td>ELAIS-N1</td></tr>\n",
       "<tr><td>HELP_BLIND_J160440.548+553408.377</td><td>241.16895166849534</td><td>55.56899355821793</td><td>351.0219</td><td>351.2573</td><td>350.5223</td><td>154.45348</td><td>155.92227</td><td>152.2044</td><td>55.500423</td><td>58.48213</td><td>52.47555</td><td>-2.2414632</td><td>-3.0505497</td><td>-3.998838</td><td>3.6281474</td><td>3.504178</td><td>2.8879697</td><td>0.99999666</td><td>0.99848294</td><td>1.0004892</td><td>2000.0</td><td>2000.0</td><td>2000.0</td><td>1.0</td><td>0.414</td><td>0.0</td><td>True</td><td>False</td><td>False</td><td>382.60466932485053</td><td>4.1673608927044565</td><td>164.5094457321369</td><td>4.223805456296819</td><td>57.10611860369097</td><td>4.219843249874001</td><td>0.8096007371789213</td><td>1.0</td><td>241.17038783975</td><td>55.5698473331343</td><td>390.0896460100279</td><td>4.0740517470418744</td><td>0.0</td><td>ELAIS-N1</td></tr>\n",
       "<tr><td>HELP_BLIND_J161457.172+555221.809</td><td>243.73821494654106</td><td>55.8727246474237</td><td>480.51782</td><td>480.54697</td><td>480.45612</td><td>280.6323</td><td>280.74744</td><td>280.36774</td><td>129.12306</td><td>129.68927</td><td>127.9111</td><td>-2.0879714</td><td>-3.1434977</td><td>-4.460485</td><td>3.7134619</td><td>3.6111908</td><td>3.334691</td><td>nan</td><td>nan</td><td>0.9990281</td><td>2000.0</td><td>2000.0</td><td>2000.0</td><td>1.0</td><td>1.0</td><td>0.907</td><td>True</td><td>True</td><td>True</td><td>516.4442811120159</td><td>4.320671429225326</td><td>284.31131457502687</td><td>4.09436185982543</td><td>135.8254795098113</td><td>4.06230888317276</td><td>0.8442016852515221</td><td>1.0</td><td>243.73821494654106</td><td>55.8727246474237</td><td>388.2954806700044</td><td>4.2241126346089395</td><td>0.0</td><td>ELAIS-N1</td></tr>\n",
       "<tr><td>HELP_BLIND_J162211.111+550253.624</td><td>245.54629376857181</td><td>55.04822891325986</td><td>380.147</td><td>383.476</td><td>376.7589</td><td>138.50343</td><td>139.2859</td><td>136.91702</td><td>48.70318</td><td>51.93736</td><td>45.277966</td><td>-2.0296905</td><td>-3.0494676</td><td>-4.122144</td><td>4.886088</td><td>3.9915822</td><td>3.165648</td><td>1.0005931</td><td>1.0011692</td><td>0.99931866</td><td>2000.0</td><td>2000.0</td><td>2000.0</td><td>1.0</td><td>0.223</td><td>0.0</td><td>True</td><td>False</td><td>False</td><td>389.0798730136472</td><td>4.241361258221392</td><td>151.28362124363792</td><td>4.144435474512711</td><td>48.45093322250717</td><td>4.631323065184354</td><td>0.7806967707053003</td><td>1.0</td><td>245.54536187397926</td><td>55.0488047962468</td><td>382.51185245734</td><td>4.153370346688843</td><td>0.0</td><td>ELAIS-N1</td></tr>\n",
       "<tr><td>HELP_BLIND_J161819.200+541858.711</td><td>244.5799992817546</td><td>54.31630860240197</td><td>346.7966</td><td>346.9452</td><td>346.48157</td><td>150.57436</td><td>151.8159</td><td>148.67613</td><td>49.503326</td><td>52.42689</td><td>46.5055</td><td>-1.8306484</td><td>-2.818987</td><td>-3.541473</td><td>3.692463</td><td>3.9438956</td><td>3.5155766</td><td>nan</td><td>0.9990484</td><td>0.99964607</td><td>2000.0</td><td>2000.0</td><td>2000.0</td><td>1.0</td><td>0.622</td><td>0.013</td><td>True</td><td>True</td><td>False</td><td>378.01090218652615</td><td>2.9981505518668965</td><td>158.14285086003179</td><td>3.0983930650292213</td><td>53.91595043179291</td><td>3.3089230880382248</td><td>0.8169394934088302</td><td>1.0</td><td>244.5809283671989</td><td>54.315740237207976</td><td>366.41388101921035</td><td>2.9349670434547</td><td>0.0</td><td>ELAIS-N1</td></tr>\n",
       "<tr><td>HELP_BLIND_J162147.815+543923.579</td><td>245.44923118759712</td><td>54.656549748161375</td><td>365.20602</td><td>365.28586</td><td>365.03278</td><td>169.03613</td><td>169.29257</td><td>168.50601</td><td>79.57185</td><td>81.718185</td><td>77.11866</td><td>-0.49873042</td><td>-2.2856119</td><td>-0.6287357</td><td>0.007585161</td><td>2.7976277</td><td>0.016324265</td><td>nan</td><td>0.9987482</td><td>1.0014876</td><td>2000.0</td><td>2000.0</td><td>2000.0</td><td>1.0</td><td>1.0</td><td>0.0</td><td>True</td><td>True</td><td>False</td><td>392.18117051514736</td><td>4.303898374807947</td><td>177.02081313966048</td><td>4.111876316122259</td><td>82.31358938510103</td><td>4.2850630634615525</td><td>0.8262588486305463</td><td>1.0</td><td>245.44774032806313</td><td>54.65574733384051</td><td>353.9517131912807</td><td>4.152769176408731</td><td>0.0</td><td>ELAIS-N1</td></tr>\n",
       "<tr><td>HELP_BLIND_J160958.915+563743.981</td><td>242.49548012049647</td><td>56.62888364117058</td><td>367.26205</td><td>367.31006</td><td>367.1583</td><td>199.15033</td><td>199.26122</td><td>198.91283</td><td>97.47166</td><td>98.24928</td><td>95.96605</td><td>-1.877185</td><td>-2.9383488</td><td>-4.0381055</td><td>3.2517638</td><td>3.5054705</td><td>2.9632168</td><td>nan</td><td>0.99859494</td><td>0.999075</td><td>2000.0</td><td>2000.0</td><td>2000.0</td><td>1.0</td><td>1.0</td><td>0.068</td><td>True</td><td>True</td><td>False</td><td>408.88175748079834</td><td>4.184866131275384</td><td>215.90329205767395</td><td>4.059505426768796</td><td>101.84575870696459</td><td>4.227650531105327</td><td>0.7903485684022431</td><td>1.0</td><td>242.4944645203288</td><td>56.629435372264396</td><td>346.3380829825487</td><td>4.089610325279751</td><td>0.0</td><td>ELAIS-N1</td></tr>\n",
       "<tr><td>...</td><td>...</td><td>...</td><td>...</td><td>...</td><td>...</td><td>...</td><td>...</td><td>...</td><td>...</td><td>...</td><td>...</td><td>...</td><td>...</td><td>...</td><td>...</td><td>...</td><td>...</td><td>...</td><td>...</td><td>...</td><td>...</td><td>...</td><td>...</td><td>...</td><td>...</td><td>...</td><td>...</td><td>...</td><td>...</td><td>...</td><td>...</td><td>...</td><td>...</td><td>...</td><td>...</td><td>...</td><td>...</td><td>...</td><td>...</td><td>...</td><td>...</td><td>...</td><td>...</td></tr>\n",
       "<tr><td>HELP_BLIND_J161804.940+550319.828</td><td>244.52058216187217</td><td>55.05550768263518</td><td>4.6120834</td><td>7.401849</td><td>2.0583973</td><td>15.824884</td><td>18.818087</td><td>12.668365</td><td>14.27594</td><td>17.219833</td><td>11.36828</td><td>-2.1534927</td><td>-3.342994</td><td>-4.0866</td><td>3.2513602</td><td>3.4214451</td><td>3.0364418</td><td>0.99915105</td><td>0.99810874</td><td>1.0001918</td><td>2000.0</td><td>2000.0</td><td>2000.0</td><td>0.0</td><td>0.0</td><td>0.001</td><td>True</td><td>False</td><td>False</td><td>5.019015778859908</td><td>4.353997814250564</td><td>11.504102538690454</td><td>4.680663045785504</td><td>12.644021197957276</td><td>4.0439217321633825</td><td>0.4838185369690264</td><td>0.8524590163934427</td><td>244.52450453604345</td><td>55.05656717906582</td><td>18.6757302533059</td><td>4.227390117111782</td><td>2.0</td><td>ELAIS-N1</td></tr>\n",
       "<tr><td>HELP_BLIND_J161630.733+564918.601</td><td>244.1280528830416</td><td>56.82183363101049</td><td>14.35371</td><td>18.219658</td><td>10.477899</td><td>10.192084</td><td>14.142</td><td>6.1876755</td><td>7.2252755</td><td>11.898211</td><td>2.8455591</td><td>-0.015896691</td><td>-0.022662254</td><td>-0.021931427</td><td>0.0019329519</td><td>0.0027701457</td><td>0.004003335</td><td>0.9995068</td><td>0.9993038</td><td>0.9995204</td><td>2000.0</td><td>2000.0</td><td>2000.0</td><td>0.0</td><td>0.0</td><td>0.0</td><td>False</td><td>False</td><td>False</td><td>13.700349564456099</td><td>6.341797234711684</td><td>7.861338121525097</td><td>6.180295718693459</td><td>14.698870522908079</td><td>6.801272210120628</td><td>0.6122444845999616</td><td>0.8524590163934427</td><td>244.1300463310784</td><td>56.82070411690945</td><td>18.670884379318323</td><td>6.68554064896421</td><td>2.0</td><td>ELAIS-N1</td></tr>\n",
       "<tr><td>HELP_BLIND_J162237.071+560704.132</td><td>245.6544632300056</td><td>56.117814363659214</td><td>5.4432397</td><td>9.617133</td><td>2.322935</td><td>3.1885712</td><td>6.1031923</td><td>1.0372465</td><td>2.4770267</td><td>5.5079665</td><td>0.68480104</td><td>-0.022483164</td><td>-0.034014806</td><td>-0.02797219</td><td>0.0020677617</td><td>0.0029239825</td><td>0.0038822298</td><td>0.9995504</td><td>1.0026205</td><td>0.99819946</td><td>2000.0</td><td>2000.0</td><td>2000.0</td><td>0.0</td><td>0.0</td><td>0.0</td><td>True</td><td>True</td><td>True</td><td>9.563280204450809</td><td>7.064455060230105</td><td>10.825157330348514</td><td>6.734307912892321</td><td>12.727307586300785</td><td>8.308116968877842</td><td>0.6092031785893792</td><td>0.8524590163934427</td><td>245.66257864180199</td><td>56.119856560178526</td><td>18.662038204154832</td><td>7.007736840496229</td><td>2.0</td><td>ELAIS-N1</td></tr>\n",
       "<tr><td>HELP_BLIND_J160949.222+560206.563</td><td>242.45509064464258</td><td>56.03515637392178</td><td>11.399245</td><td>14.153641</td><td>8.647997</td><td>12.024987</td><td>14.752724</td><td>9.315443</td><td>14.418041</td><td>17.576138</td><td>11.525324</td><td>-2.227684</td><td>-3.236</td><td>-4.093133</td><td>3.120301</td><td>3.4671006</td><td>3.0646667</td><td>0.99870867</td><td>0.9992869</td><td>0.9992244</td><td>2000.0</td><td>2000.0</td><td>2000.0</td><td>0.0</td><td>0.001</td><td>0.0</td><td>False</td><td>False</td><td>False</td><td>7.929209668658789</td><td>4.038688671478165</td><td>8.908021583307145</td><td>4.031530231899927</td><td>13.038333866005178</td><td>4.203146208375357</td><td>0.6863739428457019</td><td>0.8524590163934427</td><td>242.4530891678561</td><td>56.03625973899071</td><td>18.65690100417332</td><td>4.12882846637813</td><td>2.0</td><td>ELAIS-N1</td></tr>\n",
       "<tr><td>HELP_BLIND_J160951.426+534541.718</td><td>242.4642742388739</td><td>53.7615884532178</td><td>8.301052</td><td>10.435972</td><td>6.133367</td><td>14.46875</td><td>16.655016</td><td>12.300047</td><td>22.838606</td><td>24.822023</td><td>20.579857</td><td>-1.6941366</td><td>-2.6907272</td><td>-3.8116927</td><td>3.8294683</td><td>4.0804167</td><td>3.7266204</td><td>0.9994306</td><td>0.9992722</td><td>0.99845076</td><td>2000.0</td><td>2000.0</td><td>2000.0</td><td>0.988</td><td>1.0</td><td>1.0</td><td>True</td><td>True</td><td>True</td><td>6.195462650202501</td><td>2.2432763201156423</td><td>9.805114625216744</td><td>2.2139329285032843</td><td>13.367634457894688</td><td>2.285315913208199</td><td>0.7150859205054957</td><td>0.8524590163934427</td><td>242.46147385105587</td><td>53.75991211566072</td><td>18.647753093877114</td><td>2.2307539470468076</td><td>2.0</td><td>ELAIS-N1</td></tr>\n",
       "<tr><td>HELP_BLIND_J160159.046+551318.017</td><td>240.49602364748247</td><td>55.22167127946611</td><td>9.9899</td><td>12.784154</td><td>7.2118526</td><td>14.416809</td><td>17.208778</td><td>11.649584</td><td>15.208227</td><td>18.656298</td><td>11.879891</td><td>-1.7379303</td><td>-2.67626</td><td>-3.6980107</td><td>3.0307498</td><td>3.3598776</td><td>3.0247977</td><td>1.0002263</td><td>0.999383</td><td>0.9987276</td><td>2000.0</td><td>2000.0</td><td>2000.0</td><td>0.0</td><td>0.0</td><td>0.0</td><td>False</td><td>False</td><td>False</td><td>3.3786900896323075</td><td>4.24028131697492</td><td>6.856254612645896</td><td>4.091364448469617</td><td>11.640520790081556</td><td>4.635120578168265</td><td>0.4686100766266499</td><td>0.8524590163934427</td><td>240.49884129363411</td><td>55.22339411536014</td><td>18.639032435224603</td><td>4.414043808740973</td><td>2.0</td><td>ELAIS-N1</td></tr>\n",
       "<tr><td>HELP_BLIND_J160727.422+535809.991</td><td>241.8642600606165</td><td>53.96944199599823</td><td>16.081173</td><td>18.137806</td><td>13.946306</td><td>17.946491</td><td>20.008438</td><td>15.723281</td><td>13.377481</td><td>15.663815</td><td>10.9707</td><td>-1.8089198</td><td>-2.9364748</td><td>-3.802749</td><td>3.709565</td><td>4.189294</td><td>3.8392994</td><td>0.9985528</td><td>1.0010378</td><td>0.99953675</td><td>2000.0</td><td>2000.0</td><td>2000.0</td><td>0.971</td><td>0.99</td><td>0.76</td><td>True</td><td>True</td><td>True</td><td>13.595905727231411</td><td>2.215245798091211</td><td>19.39032667098024</td><td>2.2586287549063946</td><td>18.12259381211346</td><td>2.3106075941491193</td><td>0.671992462900582</td><td>0.8524590163934427</td><td>241.85859547006243</td><td>53.96939256138152</td><td>18.63684281451902</td><td>2.2255390974881792</td><td>2.0</td><td>ELAIS-N1</td></tr>\n",
       "<tr><td>HELP_BLIND_J160340.484+543006.982</td><td>240.91868348795086</td><td>54.50193955246909</td><td>11.859369</td><td>14.190958</td><td>9.473512</td><td>19.306126</td><td>21.548664</td><td>17.005733</td><td>17.54271</td><td>20.700943</td><td>14.585322</td><td>-1.7918924</td><td>-2.6597214</td><td>-3.585646</td><td>3.4720821</td><td>3.7842085</td><td>3.4438987</td><td>0.9990836</td><td>0.99913883</td><td>0.9998839</td><td>2000.0</td><td>2000.0</td><td>2000.0</td><td>0.021</td><td>0.782</td><td>0.135</td><td>False</td><td>True</td><td>False</td><td>9.484106378851113</td><td>2.9333845671916463</td><td>16.57617512015256</td><td>2.7657592840984413</td><td>17.26749996005884</td><td>2.9472160564284113</td><td>0.7020542786533895</td><td>0.8524590163934427</td><td>240.91491443180908</td><td>54.50076622457589</td><td>18.617425654993987</td><td>2.811098860518598</td><td>2.0</td><td>ELAIS-N1</td></tr>\n",
       "<tr><td>HELP_BLIND_J155910.565+540339.058</td><td>239.79402089547662</td><td>54.06084936564136</td><td>24.636974</td><td>29.611202</td><td>19.500383</td><td>19.66069</td><td>25.545883</td><td>13.827382</td><td>1.521864</td><td>2.854971</td><td>0.5877245</td><td>-0.034743875</td><td>-0.0475197</td><td>-0.035174623</td><td>0.0021323487</td><td>0.0029341548</td><td>0.004340245</td><td>0.99919784</td><td>0.99840635</td><td>0.9992115</td><td>2000.0</td><td>2000.0</td><td>2000.0</td><td>0.0</td><td>0.0</td><td>0.0</td><td>False</td><td>False</td><td>True</td><td>25.660245854497504</td><td>8.560630927492317</td><td>14.501216768607723</td><td>10.177481759672123</td><td>19.147573779283313</td><td>10.100087423438223</td><td>0.550555775544388</td><td>0.8524590163934427</td><td>239.7947546367821</td><td>54.06364668593819</td><td>18.608999802682042</td><td>7.9073468148449</td><td>2.0</td><td>ELAIS-N1</td></tr>\n",
       "<tr><td>HELP_BLIND_J160649.569+561132.277</td><td>241.70653690510028</td><td>56.19229906053677</td><td>5.438561</td><td>8.0377655</td><td>2.8672497</td><td>13.975567</td><td>16.715776</td><td>11.300943</td><td>10.83685</td><td>14.224465</td><td>7.3875446</td><td>-1.796083</td><td>-2.8014154</td><td>-3.8840642</td><td>2.996067</td><td>3.4569595</td><td>3.2384958</td><td>1.001827</td><td>0.9989913</td><td>1.0016116</td><td>2000.0</td><td>2000.0</td><td>2000.0</td><td>0.044</td><td>0.071</td><td>0.002</td><td>True</td><td>False</td><td>False</td><td>-0.7528154986602142</td><td>3.913670845070067</td><td>11.837321606569905</td><td>4.033148260833482</td><td>15.000068186149822</td><td>4.442078875824543</td><td>0.4126224012414549</td><td>0.8524590163934427</td><td>241.70257956057372</td><td>56.19114973725447</td><td>18.603132718640524</td><td>4.34840305976018</td><td>2.0</td><td>ELAIS-N1</td></tr>\n",
       "</table>"
      ],
      "text/plain": [
       "<Table length=34501>\n",
       "             HELP_ID                      RA         ...   flag   field  \n",
       "                                         deg         ...                 \n",
       "             bytes33                   float64       ... float64  bytes8 \n",
       "--------------------------------- ------------------ ... ------- --------\n",
       "HELP_BLIND_J160632.875+532632.977 241.63697833849417 ...     0.0 ELAIS-N1\n",
       "HELP_BLIND_J162125.844+560032.529 245.35768359048848 ...     0.0 ELAIS-N1\n",
       "HELP_BLIND_J162142.463+550507.737 245.42692800683182 ...     0.0 ELAIS-N1\n",
       "HELP_BLIND_J160440.548+553408.377 241.16895166849534 ...     0.0 ELAIS-N1\n",
       "HELP_BLIND_J161457.172+555221.809 243.73821494654106 ...     0.0 ELAIS-N1\n",
       "HELP_BLIND_J162211.111+550253.624 245.54629376857181 ...     0.0 ELAIS-N1\n",
       "HELP_BLIND_J161819.200+541858.711  244.5799992817546 ...     0.0 ELAIS-N1\n",
       "HELP_BLIND_J162147.815+543923.579 245.44923118759712 ...     0.0 ELAIS-N1\n",
       "HELP_BLIND_J160958.915+563743.981 242.49548012049647 ...     0.0 ELAIS-N1\n",
       "                              ...                ... ...     ...      ...\n",
       "HELP_BLIND_J161804.940+550319.828 244.52058216187217 ...     2.0 ELAIS-N1\n",
       "HELP_BLIND_J161630.733+564918.601  244.1280528830416 ...     2.0 ELAIS-N1\n",
       "HELP_BLIND_J162237.071+560704.132  245.6544632300056 ...     2.0 ELAIS-N1\n",
       "HELP_BLIND_J160949.222+560206.563 242.45509064464258 ...     2.0 ELAIS-N1\n",
       "HELP_BLIND_J160951.426+534541.718  242.4642742388739 ...     2.0 ELAIS-N1\n",
       "HELP_BLIND_J160159.046+551318.017 240.49602364748247 ...     2.0 ELAIS-N1\n",
       "HELP_BLIND_J160727.422+535809.991  241.8642600606165 ...     2.0 ELAIS-N1\n",
       "HELP_BLIND_J160340.484+543006.982 240.91868348795086 ...     2.0 ELAIS-N1\n",
       "HELP_BLIND_J155910.565+540339.058 239.79402089547662 ...     2.0 ELAIS-N1\n",
       "HELP_BLIND_J160649.569+561132.277 241.70653690510028 ...     2.0 ELAIS-N1"
      ]
     },
     "execution_count": 11,
     "metadata": {},
     "output_type": "execute_result"
    }
   ],
   "source": [
    "blind"
   ]
  },
  {
   "cell_type": "code",
   "execution_count": 12,
   "metadata": {},
   "outputs": [
    {
     "data": {
      "text/plain": [
       "Text(0,0.5,'Number per bin')"
      ]
     },
     "execution_count": 12,
     "metadata": {},
     "output_type": "execute_result"
    },
    {
     "data": {
      "image/png": "[encoded data removed]",
      "text/plain": [
       "<Figure size 432x288 with 1 Axes>"
      ]
     },
     "metadata": {},
     "output_type": "display_data"
    }
   ],
   "source": [
    "plt.hist(np.log10(1.e3*blind['F_SPIRE_250']), \n",
    "         bins=np.linspace(2.5, 6.0, num=30), color='b', alpha=0.5, \n",
    "         label = 'blind SPIRE 250')\n",
    "plt.hist(np.log10(cat['f_spire_250'][~np.isnan(cat['f_spire_250'])]), \n",
    "         bins=np.linspace(2.5, 6.0, num=30), color='r', alpha=0.5, \n",
    "         label = 'main SPIRE 250')\n",
    "plt.legend()\n",
    "plt.xlabel('log10(flux [uJy])')\n",
    "plt.ylabel('Number per bin')"
   ]
  },
  {
   "cell_type": "code",
   "execution_count": 13,
   "metadata": {},
   "outputs": [
    {
     "data": {
      "text/plain": [
       "Text(0,0.5,'Number per bin')"
      ]
     },
     "execution_count": 13,
     "metadata": {},
     "output_type": "execute_result"
    },
    {
     "data": {
      "image/png": "[encoded data removed]",
      "text/plain": [
       "<Figure size 432x288 with 1 Axes>"
      ]
     },
     "metadata": {},
     "output_type": "display_data"
    }
   ],
   "source": [
    "plt.hist(np.log10(1.e3*blind['F_SPIRE_350']), \n",
    "         bins=np.linspace(2.5, 6.0, num=30), color='b', alpha=0.5, \n",
    "         label = 'blind SPIRE 350')\n",
    "plt.hist(np.log10(cat['f_spire_350'][~np.isnan(cat['f_spire_350'])]), \n",
    "         bins=np.linspace(2.5, 6.0, num=30), color='r', alpha=0.5, \n",
    "         label = 'main SPIRE 350')\n",
    "plt.legend()\n",
    "plt.xlabel('log10(flux [uJy])')\n",
    "plt.ylabel('Number per bin')"
   ]
  },
  {
   "cell_type": "code",
   "execution_count": 14,
   "metadata": {},
   "outputs": [
    {
     "data": {
      "text/plain": [
       "Text(0,0.5,'Number per bin')"
      ]
     },
     "execution_count": 14,
     "metadata": {},
     "output_type": "execute_result"
    },
    {
     "data": {
      "image/png": "[encoded data removed]",
      "text/plain": [
       "<Figure size 432x288 with 1 Axes>"
      ]
     },
     "metadata": {},
     "output_type": "display_data"
    }
   ],
   "source": [
    "plt.hist(np.log10(1.e3*blind['F_SPIRE_500']), \n",
    "         bins=np.linspace(2.5, 6.0, num=30), color='b', alpha=0.5, \n",
    "         label = 'blind SPIRE 500')\n",
    "plt.hist(np.log10(cat['f_spire_500'][~np.isnan(cat['f_spire_500'])]), \n",
    "         bins=np.linspace(2.5, 6.0, num=30), color='r', alpha=0.5, \n",
    "         label = 'main SPIRE 500')\n",
    "plt.legend()\n",
    "plt.xlabel('log10(flux [uJy])')\n",
    "plt.ylabel('Number per bin')"
   ]
  },
  {
   "cell_type": "code",
   "execution_count": 15,
   "metadata": {},
   "outputs": [
    {
     "name": "stderr",
     "output_type": "stream",
     "text": [
      "/opt/anaconda3/envs/herschelhelp_internal/lib/python3.6/site-packages/matplotlib/axes/_axes.py:6462: UserWarning: The 'normed' kwarg is deprecated, and has been replaced by the 'density' kwarg.\n",
      "  warnings.warn(\"The 'normed' kwarg is deprecated, and has been \"\n"
     ]
    },
    {
     "data": {
      "image/png": "[encoded data removed]",
      "text/plain": [
       "<Figure size 432x288 with 1 Axes>"
      ]
     },
     "metadata": {},
     "output_type": "display_data"
    }
   ],
   "source": [
    "nb_merge_dist_plot(\n",
    "    SkyCoord(cat['ra'], cat['dec']),\n",
    "    SkyCoord(blind['RA'], blind['Dec'])\n",
    ")"
   ]
  },
  {
   "cell_type": "code",
   "execution_count": 16,
   "metadata": {},
   "outputs": [
    {
     "name": "stderr",
     "output_type": "stream",
     "text": [
      "/opt/anaconda3/envs/herschelhelp_internal/lib/python3.6/site-packages/matplotlib/axes/_axes.py:6462: UserWarning: The 'normed' kwarg is deprecated, and has been replaced by the 'density' kwarg.\n",
      "  warnings.warn(\"The 'normed' kwarg is deprecated, and has been \"\n"
     ]
    },
    {
     "data": {
      "image/png": "[encoded data removed]",
      "text/plain": [
       "<Figure size 432x288 with 1 Axes>"
      ]
     },
     "metadata": {},
     "output_type": "display_data"
    }
   ],
   "source": [
    "nb_merge_dist_plot(\n",
    "    SkyCoord(cat['ra'][combined_good], cat['dec'][combined_good]),\n",
    "    SkyCoord(blind['RA'], blind['Dec'])\n",
    ")"
   ]
  },
  {
   "cell_type": "code",
   "execution_count": 17,
   "metadata": {},
   "outputs": [],
   "source": [
    "good_cat = cat[combined_good]"
   ]
  },
  {
   "cell_type": "code",
   "execution_count": 18,
   "metadata": {},
   "outputs": [],
   "source": [
    "# Given the graph above, we use 0.8 arc-second radius\n",
    "merge = merge_catalogues(good_cat, blind, \"RA\", \"Dec\", radius=5.0*u.arcsec)"
   ]
  },
  {
   "cell_type": "code",
   "execution_count": 19,
   "metadata": {},
   "outputs": [
    {
     "data": {
      "image/png": "[encoded data removed]",
      "text/plain": [
       "<Figure size 432x288 with 1 Axes>"
      ]
     },
     "metadata": {},
     "output_type": "display_data"
    }
   ],
   "source": [
    "plt.scatter(merge['f_spire_250'], 1.e3*merge['F_SPIRE_250'])\n",
    "plt.plot([1.e4,1.e5],[1.e4,1.e5], color='r')\n",
    "plt.yscale('log')\n",
    "plt.xscale('log')"
   ]
  },
  {
   "cell_type": "code",
   "execution_count": 20,
   "metadata": {},
   "outputs": [],
   "source": []
  }
 ],
 "metadata": {
  "kernelspec": {
   "display_name": "Python (herschelhelp_internal)",
   "language": "python",
   "name": "helpint"
  },
  "language_info": {
   "codemirror_mode": {
    "name": "ipython",
    "version": 3
   },
   "file_extension": ".py",
   "mimetype": "text/x-python",
   "name": "python",
   "nbconvert_exporter": "python",
   "pygments_lexer": "ipython3",
   "version": "3.6.5"
  }
 },
 "nbformat": 4,
 "nbformat_minor": 2
}
