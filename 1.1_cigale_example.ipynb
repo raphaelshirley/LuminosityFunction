{
 "cells": [
  {
   "cell_type": "code",
   "execution_count": 14,
   "metadata": {
    "collapsed": true
   },
   "outputs": [],
   "source": [
    "from astropy.table import Table\n",
    "import numpy as np\n",
    "from matplotlib import pyplot as plt\n",
    "%matplotlib inline\n",
    "\n",
    "from pcigale.sed import SED\n",
    "from pcigale.sed_modules import get_module"
   ]
  },
  {
   "cell_type": "code",
   "execution_count": 2,
   "metadata": {
    "collapsed": true
   },
   "outputs": [],
   "source": [
    "orig_spec = Table.read(\"HELP_J155631.108+545024.379_best_model.fits\")"
   ]
  },
  {
   "cell_type": "code",
   "execution_count": 19,
   "metadata": {},
   "outputs": [
    {
     "data": {
      "text/html": [
       "<i>Table length=10</i>\n",
       "<table id=\"table4715534880-795754\" class=\"table-striped table-bordered table-condensed\">\n",
       "<thead><tr><th>idx</th><th>wavelength</th><th>Fnu</th><th>L_lambda_total</th><th>stellar.old</th><th>stellar.young</th><th>attenuation.stellar.old</th><th>attenuation.stellar.young</th><th>dust.Umin_Umin</th><th>dust.Umin_Umax</th><th>agn.fritz2006_therm</th><th>agn.fritz2006_scatt</th><th>agn.fritz2006_agn</th><th>igm</th></tr></thead>\n",
       "<thead><tr><th></th><th>nm</th><th>mJy</th><th>W / nm</th><th>W / nm</th><th>W / nm</th><th>W / nm</th><th>W / nm</th><th>W / nm</th><th>W / nm</th><th>W / nm</th><th>W / nm</th><th>W / nm</th><th>W / nm</th></tr></thead>\n",
       "<tr><td>0</td><td>1.13</td><td>5.62378569223e-17</td><td>5.84907291641e+23</td><td>0.0</td><td>0.0</td><td>0.0</td><td>0.0</td><td>0.0</td><td>0.0</td><td>0.0</td><td>2.86510900155e+27</td><td>4.4812773894e+24</td><td>-2.86900537164e+27</td></tr>\n",
       "<tr><td>1</td><td>1.26786</td><td>1.42025930407e-17</td><td>1.17338410845e+23</td><td>0.0</td><td>0.0</td><td>0.0</td><td>0.0</td><td>0.0</td><td>0.0</td><td>0.0</td><td>4.57308433294e+26</td><td>5.64547313213e+22</td><td>-4.57247549615e+26</td></tr>\n",
       "<tr><td>2</td><td>1.42267</td><td>3.47718050242e-18</td><td>2.28157131724e+22</td><td>0.0</td><td>0.0</td><td>0.0</td><td>0.0</td><td>0.0</td><td>0.0</td><td>0.0</td><td>7.06442660423e+25</td><td>5.35958997176e+20</td><td>-7.06219862882e+25</td></tr>\n",
       "<tr><td>3</td><td>1.59669</td><td>8.33316667116e-19</td><td>4.34094234246e+21</td><td>0.0</td><td>0.0</td><td>0.0</td><td>0.0</td><td>0.0</td><td>0.0</td><td>0.0</td><td>1.06734072509e+25</td><td>4.13105090108e+18</td><td>-1.06690704396e+25</td></tr>\n",
       "<tr><td>4</td><td>1.79105</td><td>2.84689203644e-19</td><td>1.1786116713e+21</td><td>0.0</td><td>0.0</td><td>0.0</td><td>0.0</td><td>0.0</td><td>0.0</td><td>0.0</td><td>2.30377885473e+24</td><td>6.73930970731e+16</td><td>-2.30260031045e+24</td></tr>\n",
       "<tr><td>5</td><td>2.00914</td><td>4.44825561958e-19</td><td>1.46347226314e+21</td><td>0.0</td><td>0.0</td><td>0.0</td><td>0.0</td><td>0.0</td><td>0.0</td><td>0.0</td><td>2.27403968242e+24</td><td>1.77362645057e+16</td><td>-2.2725762279e+24</td></tr>\n",
       "<tr><td>6</td><td>2.25435</td><td>4.732838532e-20</td><td>1.23678486222e+20</td><td>0.0</td><td>0.0</td><td>0.0</td><td>0.0</td><td>0.0</td><td>0.0</td><td>0.0</td><td>1.52708165005e+23</td><td>4.9486819709e+12</td><td>-1.52584486524e+23</td></tr>\n",
       "<tr><td>7</td><td>2.53007</td><td>7.88365532544e-21</td><td>1.6356023068e+19</td><td>0.0</td><td>0.0</td><td>0.0</td><td>0.0</td><td>0.0</td><td>0.0</td><td>0.0</td><td>1.60411055282e+22</td><td>9726827966.91</td><td>-1.60247495051e+22</td></tr>\n",
       "<tr><td>8</td><td>2.83856</td><td>1.04782015811e-20</td><td>1.7270533443e+19</td><td>0.0</td><td>0.0</td><td>0.0</td><td>0.0</td><td>0.0</td><td>0.0</td><td>0.0</td><td>1.34642337112e+22</td><td>671053830.05</td><td>-1.34469631778e+22</td></tr>\n",
       "<tr><td>9</td><td>3.18434</td><td>4.52204870475e-22</td><td>5.92258811809e+17</td><td>0.0</td><td>0.0</td><td>0.0</td><td>0.0</td><td>0.0</td><td>0.0</td><td>0.0</td><td>3.67149306689e+20</td><td>5512.33998609</td><td>-3.66557047877e+20</td></tr>\n",
       "</table><style>table.dataTable {clear: both; width: auto !important; margin: 0 !important;}\n",
       ".dataTables_info, .dataTables_length, .dataTables_filter, .dataTables_paginate{\n",
       "display: inline-block; margin-right: 1em; }\n",
       ".paginate_button { margin-right: 5px; }\n",
       "</style>\n",
       "<script>\n",
       "\n",
       "var astropy_sort_num = function(a, b) {\n",
       "    var a_num = parseFloat(a);\n",
       "    var b_num = parseFloat(b);\n",
       "\n",
       "    if (isNaN(a_num) && isNaN(b_num))\n",
       "        return ((a < b) ? -1 : ((a > b) ? 1 : 0));\n",
       "    else if (!isNaN(a_num) && !isNaN(b_num))\n",
       "        return ((a_num < b_num) ? -1 : ((a_num > b_num) ? 1 : 0));\n",
       "    else\n",
       "        return isNaN(a_num) ? -1 : 1;\n",
       "}\n",
       "\n",
       "require.config({paths: {\n",
       "    datatables: 'https://cdn.datatables.net/1.10.12/js/jquery.dataTables.min'\n",
       "}});\n",
       "require([\"datatables\"], function(){\n",
       "    console.log(\"$('#table4715534880-795754').dataTable()\");\n",
       "    \n",
       "jQuery.extend( jQuery.fn.dataTableExt.oSort, {\n",
       "    \"optionalnum-asc\": astropy_sort_num,\n",
       "    \"optionalnum-desc\": function (a,b) { return -astropy_sort_num(a, b); }\n",
       "});\n",
       "\n",
       "    $('#table4715534880-795754').dataTable({\n",
       "        order: [],\n",
       "        pageLength: 50,\n",
       "        lengthMenu: [[10, 25, 50, 100, 500, 1000, -1], [10, 25, 50, 100, 500, 1000, 'All']],\n",
       "        pagingType: \"full_numbers\",\n",
       "        columnDefs: [{targets: [0, 1, 2, 3, 4, 5, 6, 7, 8, 9, 10, 11, 12, 13], type: \"optionalnum\"}]\n",
       "    });\n",
       "});\n",
       "</script>\n"
      ],
      "text/plain": [
       "<IPython.core.display.HTML object>"
      ]
     },
     "execution_count": 19,
     "metadata": {},
     "output_type": "execute_result"
    }
   ],
   "source": [
    "orig_spec[:10].show_in_notebook()"
   ]
  },
  {
   "cell_type": "code",
   "execution_count": 6,
   "metadata": {},
   "outputs": [
    {
     "data": {
      "text/plain": [
       "['wavelength',\n",
       " 'Fnu',\n",
       " 'L_lambda_total',\n",
       " 'stellar.old',\n",
       " 'stellar.young',\n",
       " 'attenuation.stellar.old',\n",
       " 'attenuation.stellar.young',\n",
       " 'dust.Umin_Umin',\n",
       " 'dust.Umin_Umax',\n",
       " 'agn.fritz2006_therm',\n",
       " 'agn.fritz2006_scatt',\n",
       " 'agn.fritz2006_agn',\n",
       " 'igm']"
      ]
     },
     "execution_count": 6,
     "metadata": {},
     "output_type": "execute_result"
    }
   ],
   "source": [
    "orig_spec.colnames"
   ]
  },
  {
   "cell_type": "code",
   "execution_count": 26,
   "metadata": {
    "collapsed": true
   },
   "outputs": [],
   "source": [
    "s = SED()"
   ]
  },
  {
   "cell_type": "code",
   "execution_count": 27,
   "metadata": {},
   "outputs": [],
   "source": [
    "# This is wrong because the best SED we get from CIGALE is redshifted (written by Yannick)\n",
    "s.add_contribution(\"HELP_SED\", orig_spec['wavelength'], orig_spec['L_lambda_total'])"
   ]
  },
  {
   "cell_type": "code",
   "execution_count": 28,
   "metadata": {
    "collapsed": true
   },
   "outputs": [],
   "source": [
    "redshifts = np.linspace(0, 4, 100)\n",
    "fluxes = []"
   ]
  },
  {
   "cell_type": "code",
   "execution_count": 29,
   "metadata": {
    "collapsed": true
   },
   "outputs": [],
   "source": [
    "for r in redshifts:\n",
    "    sed = s.copy()\n",
    "    mod = get_module(\"redshifting\", redshift=r)\n",
    "    mod.process(sed)\n",
    "    fluxes.append(sed.compute_fnu('IRAC1'))"
   ]
  },
  {
   "cell_type": "code",
   "execution_count": 31,
   "metadata": {},
   "outputs": [
    {
     "name": "stderr",
     "output_type": "stream",
     "text": [
      "/Users/rs548/anaconda/envs/herschelhelp_internal/lib/python3.6/site-packages/matplotlib/font_manager.py:1297: UserWarning: findfont: Font family ['serif'] not found. Falling back to DejaVu Sans\n",
      "  (prop.get_family(), self.defaultFamily[fontext]))\n"
     ]
    },
    {
     "data": {
      "image/png": "[encoded data removed]",
      "text/plain": [
       "<matplotlib.figure.Figure at 0x1191182e8>"
      ]
     },
     "metadata": {},
     "output_type": "display_data"
    }
   ],
   "source": [
    "fig, ax = plt.subplots()\n",
    "    \n",
    "#offset_angle = np.angle(ra_diff.arcsec + dec_diff.arcsec * 1j)\n",
    "#offset_dist = np.absolute(ra_diff.arcsec + dec_diff.arcsec * 1j)\n",
    "#offset_distnorm = (offset_dist - np.min(offset_dist)) / np.max(offset_dist)\n",
    "\n",
    "#cmap = mpl.colors.ListedColormap(sns.color_palette(\"Blues\"))\n",
    "#colors = cmap(depths['ferr_ap_irac_i1_mean'])  # The color is the angle\n",
    "#colors[:, 3] = offset_distnorm  # The transparency is the distance\n",
    "\n",
    "ax.loglog(redshifts, fluxes)\n",
    "\n",
    "\n",
    "ax.set_xlabel('Redshift')\n",
    "ax.set_ylabel('flux [mJy?]')\n",
    "\n",
    "\n",
    "\n",
    "\n",
    "plt.rc('font', family='serif', serif='Times')\n",
    "plt.rc('text') #, usetex=True)\n",
    "plt.rc('xtick', labelsize=12)\n",
    "plt.rc('ytick', labelsize=12)\n",
    "plt.rc('axes', labelsize=12)\n",
    "\n",
    "column_width_cm = 8.9\n",
    "width_cm = 1.4 * column_width_cm\n",
    "hieght_cm = width_cm / 1.618\n",
    "width_inches = width_cm/2.5\n",
    "hieght_inches = hieght_cm/2.5\n",
    "fig.set_size_inches(width_inches, hieght_inches)\n",
    "plt.ylim(1.e-6,1.e1)\n",
    "plt.savefig('f_v_z.pdf', bbox_inches='tight')\n",
    "plt.savefig('f_v_z.png', bbox_inches='tight')"
   ]
  },
  {
   "cell_type": "code",
   "execution_count": 7,
   "metadata": {},
   "outputs": [
    {
     "data": {
      "text/plain": [
       "[<matplotlib.lines.Line2D at 0x7f48d6ce6b70>]"
      ]
     },
     "execution_count": 7,
     "metadata": {},
     "output_type": "execute_result"
    },
    {
     "data": {
      "image/png": "[encoded data removed]",
      "text/plain": [
       "<matplotlib.figure.Figure at 0x7f48d87882b0>"
      ]
     },
     "metadata": {},
     "output_type": "display_data"
    }
   ],
   "source": [
    "#This is the original plot from Yannick \n",
    "#It clearly has drastically different units\n",
    "#Is this a diff between fnu and L?\n",
    "plt.loglog(redshifts, fluxes)"
   ]
  },
  {
   "cell_type": "markdown",
   "metadata": {},
   "source": [
    "## Beware\n",
    "\n",
    "This is wrong because the SED we get from CIGALE is not redshifted.  Also, you are taking a SED of a galaxy having evolved over a given star formation history are put the resulting spectrum back in time. Wouldn't it be more appropriate to rebuild the SED corresponding to all the parameters of the best SED only changing the age of the galaxy according to the redshift?"
   ]
  },
  {
   "cell_type": "code",
   "execution_count": null,
   "metadata": {
    "collapsed": true
   },
   "outputs": [],
   "source": []
  }
 ],
 "metadata": {
  "kernelspec": {
   "display_name": "Python (herschelhelp_internal)",
   "language": "python",
   "name": "helpint"
  },
  "language_info": {
   "codemirror_mode": {
    "name": "ipython",
    "version": 3
   },
   "file_extension": ".py",
   "mimetype": "text/x-python",
   "name": "python",
   "nbconvert_exporter": "python",
   "pygments_lexer": "ipython3",
   "version": "3.6.4"
  }
 },
 "nbformat": 4,
 "nbformat_minor": 2
}
